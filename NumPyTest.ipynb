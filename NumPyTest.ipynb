{
 "cells": [
  {
   "cell_type": "code",
   "execution_count": 1,
   "metadata": {},
   "outputs": [],
   "source": [
    "# 1.导入numpy包\n",
    "import numpy as np"
   ]
  },
  {
   "cell_type": "code",
   "execution_count": 2,
   "metadata": {},
   "outputs": [
    {
     "name": "stdout",
     "output_type": "stream",
     "text": [
      "1.18.5\n",
      "<function show at 0x000001FAEDDCECA0>\n"
     ]
    }
   ],
   "source": [
    "# 2.打印numpy版本和设置\n",
    "print(np.__version__)\n",
    "print(np.show_config)"
   ]
  },
  {
   "cell_type": "code",
   "execution_count": 4,
   "metadata": {},
   "outputs": [
    {
     "name": "stdout",
     "output_type": "stream",
     "text": [
      "[0. 0. 0. 0. 0. 0. 0. 0. 0. 0.]\n"
     ]
    }
   ],
   "source": [
    "# 3.创建一个空的10个长度的向量\n",
    "zeroArr = np.zeros(10)\n",
    "print(zeroArr)"
   ]
  },
  {
   "cell_type": "code",
   "execution_count": 5,
   "metadata": {},
   "outputs": [
    {
     "name": "stdout",
     "output_type": "stream",
     "text": [
      "ZeroArr's size is 10\n",
      "ZeroArr's itemsize is 8\n"
     ]
    }
   ],
   "source": [
    "# 4.如何找到任何一个array的长度\n",
    "print('ZeroArr\\'s size is',zeroArr.size)\n",
    "# ItemSize返回字节长度\n",
    "print('ZeroArr\\'s itemsize is',zeroArr.itemsize)"
   ]
  },
  {
   "cell_type": "code",
   "execution_count": 6,
   "metadata": {},
   "outputs": [
    {
     "name": "stdout",
     "output_type": "stream",
     "text": [
      "add(x1, x2, /, out=None, *, where=True, casting='same_kind', order='K', dtype=None, subok=True[, signature, extobj])\n",
      "\n",
      "Add arguments element-wise.\n",
      "\n",
      "Parameters\n",
      "----------\n",
      "x1, x2 : array_like\n",
      "    The arrays to be added. If ``x1.shape != x2.shape``, they must be broadcastable to a common shape (which becomes the shape of the output).\n",
      "out : ndarray, None, or tuple of ndarray and None, optional\n",
      "    A location into which the result is stored. If provided, it must have\n",
      "    a shape that the inputs broadcast to. If not provided or None,\n",
      "    a freshly-allocated array is returned. A tuple (possible only as a\n",
      "    keyword argument) must have length equal to the number of outputs.\n",
      "where : array_like, optional\n",
      "    This condition is broadcast over the input. At locations where the\n",
      "    condition is True, the `out` array will be set to the ufunc result.\n",
      "    Elsewhere, the `out` array will retain its original value.\n",
      "    Note that if an uninitialized `out` array is created via the default\n",
      "    ``out=None``, locations within it where the condition is False will\n",
      "    remain uninitialized.\n",
      "**kwargs\n",
      "    For other keyword-only arguments, see the\n",
      "    :ref:`ufunc docs <ufuncs.kwargs>`.\n",
      "\n",
      "Returns\n",
      "-------\n",
      "add : ndarray or scalar\n",
      "    The sum of `x1` and `x2`, element-wise.\n",
      "    This is a scalar if both `x1` and `x2` are scalars.\n",
      "\n",
      "Notes\n",
      "-----\n",
      "Equivalent to `x1` + `x2` in terms of array broadcasting.\n",
      "\n",
      "Examples\n",
      "--------\n",
      ">>> np.add(1.0, 4.0)\n",
      "5.0\n",
      ">>> x1 = np.arange(9.0).reshape((3, 3))\n",
      ">>> x2 = np.arange(3.0)\n",
      ">>> np.add(x1, x2)\n",
      "array([[  0.,   2.,   4.],\n",
      "       [  3.,   5.,   7.],\n",
      "       [  6.,   8.,  10.]])\n"
     ]
    }
   ],
   "source": [
    "# 5.如何在命令行里面找到numpy的函数文档\n",
    "# 传入函数参数\n",
    "np.info(np.add)"
   ]
  },
  {
   "cell_type": "code",
   "execution_count": 7,
   "metadata": {},
   "outputs": [
    {
     "data": {
      "text/plain": [
       "array([0., 0., 0., 0., 1., 0., 0., 0., 0., 0.])"
      ]
     },
     "execution_count": 7,
     "metadata": {},
     "output_type": "execute_result"
    }
   ],
   "source": [
    "# 6.创建一个长度为10的空的向量但是第5个值为1\n",
    "zeroArr2 = np.zeros(10)\n",
    "zeroArr2[4]=1\n",
    "zeroArr2"
   ]
  },
  {
   "cell_type": "code",
   "execution_count": 8,
   "metadata": {},
   "outputs": [],
   "source": [
    "# 7.创建一个由10-49的数字构成的向量\n",
    "arr1 = np.arange(10,50)"
   ]
  },
  {
   "cell_type": "code",
   "execution_count": 9,
   "metadata": {},
   "outputs": [
    {
     "data": {
      "text/plain": [
       "array([49, 48, 47, 46, 45, 44, 43, 42, 41, 40, 39, 38, 37, 36, 35, 34, 33,\n",
       "       32, 31, 30, 29, 28, 27, 26, 25, 24, 23, 22, 21, 20, 19, 18, 17, 16,\n",
       "       15, 14, 13, 12, 11, 10])"
      ]
     },
     "execution_count": 9,
     "metadata": {},
     "output_type": "execute_result"
    }
   ],
   "source": [
    "# 8.翻转一个向量\n",
    "# 使用切片功能，第一个：为[)区间的数据，第二个:后为步长\n",
    "arr1[::-1]"
   ]
  },
  {
   "cell_type": "code",
   "execution_count": 10,
   "metadata": {},
   "outputs": [
    {
     "data": {
      "text/plain": [
       "array([[0, 1, 2],\n",
       "       [3, 4, 5],\n",
       "       [6, 7, 8]])"
      ]
     },
     "execution_count": 10,
     "metadata": {},
     "output_type": "execute_result"
    }
   ],
   "source": [
    "# 9.创建一个3*3的矩阵，值为0-8\n",
    "arr2 = np.arange(9).reshape(3,3)\n",
    "arr2"
   ]
  },
  {
   "cell_type": "code",
   "execution_count": 11,
   "metadata": {},
   "outputs": [
    {
     "data": {
      "text/plain": [
       "(array([0, 1, 4], dtype=int64),)"
      ]
     },
     "execution_count": 11,
     "metadata": {},
     "output_type": "execute_result"
    }
   ],
   "source": [
    "# 10.从向量[1,2,0,0,4,0]中找到非0元素的索引\n",
    "arr3 = [1,2,0,0,4,0]\n",
    "np.nonzero(arr3)"
   ]
  },
  {
   "cell_type": "code",
   "execution_count": 12,
   "metadata": {},
   "outputs": [
    {
     "data": {
      "text/plain": [
       "array([[1., 0., 0.],\n",
       "       [0., 1., 0.],\n",
       "       [0., 0., 1.]])"
      ]
     },
     "execution_count": 12,
     "metadata": {},
     "output_type": "execute_result"
    }
   ],
   "source": [
    "# 11.创建一个3*3的单位矩阵\n",
    "np.eye(3)"
   ]
  },
  {
   "cell_type": "code",
   "execution_count": 13,
   "metadata": {},
   "outputs": [
    {
     "data": {
      "text/plain": [
       "array([[[0.38643877, 0.55191467, 0.57320164],\n",
       "        [0.71770481, 0.21320487, 0.64638186],\n",
       "        [0.37735844, 0.83914291, 0.61570276]],\n",
       "\n",
       "       [[0.18919567, 0.13121087, 0.45287793],\n",
       "        [0.48946465, 0.60592924, 0.45428991],\n",
       "        [0.26106437, 0.62707453, 0.53242757]],\n",
       "\n",
       "       [[0.65874109, 0.7437497 , 0.52467982],\n",
       "        [0.21751081, 0.95876976, 0.87713826],\n",
       "        [0.38176439, 0.52674937, 0.17132982]]])"
      ]
     },
     "execution_count": 13,
     "metadata": {},
     "output_type": "execute_result"
    }
   ],
   "source": [
    "# 12.创建一个3*3*3的随机数矩阵\n",
    "np.random.random((3,3,3))"
   ]
  },
  {
   "cell_type": "code",
   "execution_count": 14,
   "metadata": {},
   "outputs": [
    {
     "name": "stdout",
     "output_type": "stream",
     "text": [
      "arr4 is:\n",
      " [[0.43331849 0.12723117 0.0442345  0.53054868 0.54055774 0.15806529\n",
      "  0.77727247 0.70945836 0.14886052 0.4100046 ]\n",
      " [0.97460091 0.44721222 0.19710072 0.30864943 0.70973255 0.31650193\n",
      "  0.89219494 0.67418036 0.55413258 0.93525672]\n",
      " [0.50713042 0.80934558 0.02527833 0.36645368 0.44932258 0.13831178\n",
      "  0.76666867 0.51059484 0.53299124 0.24718414]\n",
      " [0.3967133  0.70024227 0.88038902 0.56332556 0.17561872 0.89687477\n",
      "  0.68941898 0.17209373 0.27539626 0.58508631]\n",
      " [0.29406209 0.31169375 0.34525503 0.92852817 0.21914908 0.69996136\n",
      "  0.97490877 0.81279406 0.81817753 0.60212421]\n",
      " [0.13152528 0.22801151 0.12511416 0.23639309 0.58434112 0.33795794\n",
      "  0.75484864 0.80489821 0.9497258  0.78598819]\n",
      " [0.13140328 0.23805307 0.19096603 0.31802285 0.46272745 0.54733044\n",
      "  0.94171767 0.61574534 0.75323355 0.47502519]\n",
      " [0.91019854 0.61762003 0.1288725  0.0817648  0.34452686 0.96006438\n",
      "  0.56086413 0.20377208 0.79708483 0.38558834]\n",
      " [0.00679297 0.31829742 0.67759736 0.30703553 0.05957333 0.08110242\n",
      "  0.6779582  0.57453016 0.66622552 0.84153031]\n",
      " [0.8150746  0.80243181 0.60354227 0.51635638 0.65761283 0.09469227\n",
      "  0.54986603 0.32138952 0.8699092  0.61287712]]\n",
      "arr4's min is 0.006792970519091113\n",
      "arr4's max is 0.9749087682459883\n"
     ]
    }
   ],
   "source": [
    "# 13.创建一个10*10的随机矩阵并找到他们的最小和最大值\n",
    "arr4 = np.random.random((10,10))\n",
    "print('arr4 is:\\n',arr4)\n",
    "print('arr4\\'s min is',np.min(arr4))\n",
    "print('arr4\\'s max is',np.max(arr4))"
   ]
  },
  {
   "cell_type": "code",
   "execution_count": 15,
   "metadata": {},
   "outputs": [
    {
     "name": "stdout",
     "output_type": "stream",
     "text": [
      "arr5 is \n",
      " [0.48959879 0.01158138 0.5936598  0.04541165 0.29321194 0.84407144\n",
      " 0.77246198 0.97573114 0.83157837 0.67522956 0.14742273 0.91630098\n",
      " 0.9865316  0.18033049 0.79934889 0.10338969 0.47551176 0.49662644\n",
      " 0.2815447  0.80388113 0.04714206 0.75524864 0.38261937 0.83834087\n",
      " 0.27442207 0.07231609 0.73008793 0.63677678 0.64814176 0.48930651]\n",
      "arr5's mean is 0.5199275521110563\n"
     ]
    }
   ],
   "source": [
    "# 14.创建一个长度为30的随机向量并且找到平均值\n",
    "arr5 = np.random.random(30)\n",
    "print('arr5 is \\n',arr5)\n",
    "print('arr5\\'s mean is',np.mean(arr5))"
   ]
  },
  {
   "cell_type": "code",
   "execution_count": 16,
   "metadata": {
    "scrolled": true
   },
   "outputs": [
    {
     "data": {
      "text/plain": [
       "array([[1., 1., 1., 1., 1., 1., 1., 1., 1., 1.],\n",
       "       [1., 0., 0., 0., 0., 0., 0., 0., 0., 1.],\n",
       "       [1., 0., 0., 0., 0., 0., 0., 0., 0., 1.],\n",
       "       [1., 0., 0., 0., 0., 0., 0., 0., 0., 1.],\n",
       "       [1., 0., 0., 0., 0., 0., 0., 0., 0., 1.],\n",
       "       [1., 0., 0., 0., 0., 0., 0., 0., 0., 1.],\n",
       "       [1., 0., 0., 0., 0., 0., 0., 0., 0., 1.],\n",
       "       [1., 0., 0., 0., 0., 0., 0., 0., 0., 1.],\n",
       "       [1., 0., 0., 0., 0., 0., 0., 0., 0., 1.],\n",
       "       [1., 1., 1., 1., 1., 1., 1., 1., 1., 1.]])"
      ]
     },
     "execution_count": 16,
     "metadata": {},
     "output_type": "execute_result"
    }
   ],
   "source": [
    "# 15.创建一个二维数组，边界为1，其余为0\n",
    "arr6=np.ones((10,10))\n",
    "arr6[1:-1,1:-1]=0\n",
    "arr6"
   ]
  },
  {
   "cell_type": "code",
   "execution_count": 17,
   "metadata": {},
   "outputs": [
    {
     "data": {
      "text/plain": [
       "array([[0., 0., 0., 0., 0., 0., 0., 0., 0.],\n",
       "       [0., 0., 0., 0., 0., 0., 0., 0., 0.],\n",
       "       [0., 0., 1., 1., 1., 1., 1., 0., 0.],\n",
       "       [0., 0., 1., 1., 1., 1., 1., 0., 0.],\n",
       "       [0., 0., 1., 1., 1., 1., 1., 0., 0.],\n",
       "       [0., 0., 1., 1., 1., 1., 1., 0., 0.],\n",
       "       [0., 0., 1., 1., 1., 1., 1., 0., 0.],\n",
       "       [0., 0., 0., 0., 0., 0., 0., 0., 0.],\n",
       "       [0., 0., 0., 0., 0., 0., 0., 0., 0.]])"
      ]
     },
     "execution_count": 17,
     "metadata": {},
     "output_type": "execute_result"
    }
   ],
   "source": [
    "# 16.如何添加一个边界由0包围的数组\n",
    "# 用pad函数\n",
    "arr7 = np.ones((5,5))\n",
    "arr7 = np.pad(arr7,pad_width=2,mode='constant',constant_values=0)\n",
    "arr7\n"
   ]
  },
  {
   "cell_type": "code",
   "execution_count": 18,
   "metadata": {},
   "outputs": [
    {
     "data": {
      "text/plain": [
       "False"
      ]
     },
     "execution_count": 18,
     "metadata": {},
     "output_type": "execute_result"
    }
   ],
   "source": [
    "# 17.下面的表达式执行结果是什么\n",
    "# Tips:Nan不是一个number，不能参与很多运算\n",
    "0 * np.nan # nan\n",
    "np.nan == np.nan # False\n",
    "np.inf > np.nan # False\n",
    "np.nan - np.nan # Nan\n",
    "np.nan in set([np.nan]) # True\n",
    "0.3 == 3 * 0.1 # False"
   ]
  },
  {
   "cell_type": "code",
   "execution_count": 19,
   "metadata": {},
   "outputs": [
    {
     "data": {
      "text/plain": [
       "array([[0, 0, 0, 0, 0],\n",
       "       [1, 0, 0, 0, 0],\n",
       "       [0, 2, 0, 0, 0],\n",
       "       [0, 0, 3, 0, 0],\n",
       "       [0, 0, 0, 4, 0]])"
      ]
     },
     "execution_count": 19,
     "metadata": {},
     "output_type": "execute_result"
    }
   ],
   "source": [
    "# 18.创建一个5*5的矩阵,1,2,3,4为对角线下方元素\n",
    "# 用np.diag建立对角线矩阵，k参数控制偏移量\n",
    "np.diag(1+np.arange(4),k=-1)"
   ]
  },
  {
   "cell_type": "code",
   "execution_count": 20,
   "metadata": {},
   "outputs": [
    {
     "name": "stdout",
     "output_type": "stream",
     "text": [
      "[[0 1 0 1 0 1 0 1]\n",
      " [1 0 1 0 1 0 1 0]\n",
      " [0 1 0 1 0 1 0 1]\n",
      " [1 0 1 0 1 0 1 0]\n",
      " [0 1 0 1 0 1 0 1]\n",
      " [1 0 1 0 1 0 1 0]\n",
      " [0 1 0 1 0 1 0 1]\n",
      " [1 0 1 0 1 0 1 0]]\n"
     ]
    }
   ],
   "source": [
    "# 19.建立一个8*8的矩阵用棋盘型图案填充\n",
    "# numpy切片:第一个：前后为起始、截至的index，第二个:后面为步长（间隔）\n",
    "Z = np.zeros((8,8),dtype=int)\n",
    "Z[1::2,::2] = 1\n",
    "Z[::2,1::2] = 1\n",
    "print(Z)"
   ]
  },
  {
   "cell_type": "code",
   "execution_count": 21,
   "metadata": {},
   "outputs": [
    {
     "data": {
      "text/plain": [
       "(1, 5, 3)"
      ]
     },
     "execution_count": 21,
     "metadata": {},
     "output_type": "execute_result"
    }
   ],
   "source": [
    "# 20.考虑一个(6,7,8)形状的数组，第100的元素的(x,y,z)index是什么？\n",
    "# unravel_index()获得第n个元素在某个shape的ndarray下的x,y,z index\n",
    "np.unravel_index(99,(6,7,8))"
   ]
  },
  {
   "cell_type": "code",
   "execution_count": 22,
   "metadata": {},
   "outputs": [
    {
     "name": "stdout",
     "output_type": "stream",
     "text": [
      "[[0 1]\n",
      " [1 0]]\n"
     ]
    },
    {
     "data": {
      "text/plain": [
       "array([[0, 1, 0, 1, 0, 1, 0, 1],\n",
       "       [1, 0, 1, 0, 1, 0, 1, 0],\n",
       "       [0, 1, 0, 1, 0, 1, 0, 1],\n",
       "       [1, 0, 1, 0, 1, 0, 1, 0],\n",
       "       [0, 1, 0, 1, 0, 1, 0, 1],\n",
       "       [1, 0, 1, 0, 1, 0, 1, 0],\n",
       "       [0, 1, 0, 1, 0, 1, 0, 1],\n",
       "       [1, 0, 1, 0, 1, 0, 1, 0]])"
      ]
     },
     "execution_count": 22,
     "metadata": {},
     "output_type": "execute_result"
    }
   ],
   "source": [
    "# 21.使用平铺功能获得8*8的棋盘式矩阵\n",
    "# np.info(np.tile)\n",
    "# tile 函数，对ndarray按排列进行重复\n",
    "# tile(a,b) a为ndarray，b为平铺的一、二、三、......、N维平铺数量\n",
    "print(np.array([[0,1],[1,0]]))\n",
    "np.tile(np.array([[0,1],[1,0]]),(4,4))"
   ]
  },
  {
   "cell_type": "code",
   "execution_count": 23,
   "metadata": {
    "scrolled": true
   },
   "outputs": [
    {
     "name": "stdout",
     "output_type": "stream",
     "text": [
      "[[-0.20825435  1.40477982 -1.65469778 -0.31828578  1.56813003]\n",
      " [-1.33096804 -0.95133459 -0.25720591  1.18070701 -0.47725693]\n",
      " [ 1.28333326  0.80823702  0.30560065 -0.51765055 -0.06961653]\n",
      " [-1.5746643  -1.53906287 -0.36406482 -0.95801169  1.16659522]\n",
      " [ 0.57467438  1.03300662  1.25589933 -0.60125536  0.24136615]]\n"
     ]
    }
   ],
   "source": [
    "# 22.标准化一个5*5的随机矩阵\n",
    "arr9 = np.random.random((5,5))\n",
    "arr9 = (arr9-np.mean(arr9))/(np.std(arr9))\n",
    "print(arr9)"
   ]
  },
  {
   "cell_type": "code",
   "execution_count": 24,
   "metadata": {
    "scrolled": true
   },
   "outputs": [
    {
     "name": "stderr",
     "output_type": "stream",
     "text": [
      "<ipython-input-24-08819e0d107a>:5: FutureWarning: Passing (type, 1) or '1type' as a synonym of type is deprecated; in a future version of numpy, it will be understood as (type, (1,)) / '(1,)type'.\n",
      "  color = np.dtype([('r',np.ubyte,1),('g',np.ubyte,1),('b',np.ubyte,1),('a',np.ubyte,1)])\n"
     ]
    }
   ],
   "source": [
    "# 23.建立一个数据类型，把RGBA颜色用4个无符号字节描述\n",
    "# np.dtype 数据类型对象是用来描述与数组对应的内存区域如何使用\n",
    "# numpy.dtype(object, align, copy)\n",
    "# np.info(np.dtype)\n",
    "color = np.dtype([('r',np.ubyte,1),('g',np.ubyte,1),('b',np.ubyte,1),('a',np.ubyte,1)])\n"
   ]
  },
  {
   "cell_type": "code",
   "execution_count": 25,
   "metadata": {},
   "outputs": [
    {
     "data": {
      "text/plain": [
       "array([[3., 3.],\n",
       "       [3., 3.],\n",
       "       [3., 3.],\n",
       "       [3., 3.],\n",
       "       [3., 3.]])"
      ]
     },
     "execution_count": 25,
     "metadata": {},
     "output_type": "execute_result"
    }
   ],
   "source": [
    "# 24.用一个5*3的矩阵乘以3*2的矩阵，作矩阵乘法\n",
    "# np.dot()矩阵乘法运算函数\n",
    "np.dot(np.ones((5,3)),np.ones((3,2)))"
   ]
  },
  {
   "cell_type": "code",
   "execution_count": 26,
   "metadata": {},
   "outputs": [
    {
     "name": "stdout",
     "output_type": "stream",
     "text": [
      "[ 3 -6 -4 -5 -7  9  1  2  8]\n"
     ]
    }
   ],
   "source": [
    "# 25.给出一个一维数组，取3到8之间所有元素的值的负数\n",
    "arr10 = np.array([3,6,4,5,7,9,1,2,8])\n",
    "# 数组对象[条件判断]表达式\n",
    "arr10[(3<arr10)&(arr10<8)]*=-1\n",
    "print(arr10)"
   ]
  },
  {
   "cell_type": "code",
   "execution_count": 27,
   "metadata": {},
   "outputs": [
    {
     "name": "stdout",
     "output_type": "stream",
     "text": [
      "9\n",
      "10\n"
     ]
    }
   ],
   "source": [
    "# 26.下列脚本的输出是？\n",
    "# print(sum(range(5),-1))\n",
    "# from numpy import *\n",
    "# print(sum(range(5),-1))\n",
    "print(sum(range(5),-1))\n",
    "from numpy import *\n",
    "print(sum(range(5),-1))"
   ]
  },
  {
   "cell_type": "code",
   "execution_count": 28,
   "metadata": {},
   "outputs": [
    {
     "ename": "ValueError",
     "evalue": "The truth value of an array with more than one element is ambiguous. Use a.any() or a.all()",
     "output_type": "error",
     "traceback": [
      "\u001b[1;31m---------------------------------------------------------------------------\u001b[0m",
      "\u001b[1;31mValueError\u001b[0m                                Traceback (most recent call last)",
      "\u001b[1;32m<ipython-input-28-cba40b45ba3f>\u001b[0m in \u001b[0;36m<module>\u001b[1;34m\u001b[0m\n\u001b[0;32m      6\u001b[0m \u001b[1;36m1j\u001b[0m\u001b[1;33m*\u001b[0m\u001b[0mZ\u001b[0m \u001b[1;31m# 合法\u001b[0m\u001b[1;33m\u001b[0m\u001b[1;33m\u001b[0m\u001b[0m\n\u001b[0;32m      7\u001b[0m \u001b[0mZ\u001b[0m\u001b[1;33m/\u001b[0m\u001b[1;36m1\u001b[0m\u001b[1;33m/\u001b[0m\u001b[1;36m1\u001b[0m \u001b[1;31m# 合法\u001b[0m\u001b[1;33m\u001b[0m\u001b[1;33m\u001b[0m\u001b[0m\n\u001b[1;32m----> 8\u001b[1;33m \u001b[0mZ\u001b[0m\u001b[1;33m<\u001b[0m\u001b[0mZ\u001b[0m\u001b[1;33m>\u001b[0m\u001b[0mZ\u001b[0m \u001b[1;31m#不合法\u001b[0m\u001b[1;33m\u001b[0m\u001b[1;33m\u001b[0m\u001b[0m\n\u001b[0m\u001b[0;32m      9\u001b[0m \u001b[1;31m# The truth value of an array with more than one element is ambiguous. Use a.any() or a.all()\u001b[0m\u001b[1;33m\u001b[0m\u001b[1;33m\u001b[0m\u001b[1;33m\u001b[0m\u001b[0m\n",
      "\u001b[1;31mValueError\u001b[0m: The truth value of an array with more than one element is ambiguous. Use a.any() or a.all()"
     ]
    }
   ],
   "source": [
    "# 27.一个整型向量Z，哪个表达式是合法的\n",
    "Z = np.arange(3)\n",
    "Z**Z #合法\n",
    "2 << Z >> 2 #合法\n",
    "Z <- Z # 合法\n",
    "1j*Z # 合法\n",
    "Z/1/1 # 合法\n",
    "Z<Z>Z #不合法\n",
    "# The truth value of an array with more than one element is ambiguous. Use a.any() or a.all()"
   ]
  },
  {
   "cell_type": "code",
   "execution_count": null,
   "metadata": {},
   "outputs": [],
   "source": [
    "# 28.下列表达式的结果是什么\n",
    "np.array(0) / np.array(0) #Nan\n",
    "np.array(0) // np.array(0) #0\n",
    "np.array([np.nan]).astype(int).astype(float)# 有结果"
   ]
  },
  {
   "cell_type": "code",
   "execution_count": null,
   "metadata": {},
   "outputs": [],
   "source": [
    "# 29.如何把一个float型数组取整\n",
    "Z = np.random.uniform(-10,+10,10)\n",
    "np.around(Z) # around函数"
   ]
  },
  {
   "cell_type": "code",
   "execution_count": null,
   "metadata": {},
   "outputs": [],
   "source": [
    "# 30.如何找到两个矩阵中的共同值\n",
    "X = np.abs(np.around(np.random.uniform(-10,+10,10)))\n",
    "Y = np.abs(np.around(np.random.uniform(-10,+10,10)))\n",
    "Z = np.abs(np.around(np.random.uniform(-10,+10,10)))\n",
    "print(X,Y,Z)\n",
    "np.intersect1d(X,Y)"
   ]
  },
  {
   "cell_type": "code",
   "execution_count": 29,
   "metadata": {},
   "outputs": [
    {
     "ename": "NameError",
     "evalue": "name 'defaults' is not defined",
     "output_type": "error",
     "traceback": [
      "\u001b[1;31m---------------------------------------------------------------------------\u001b[0m",
      "\u001b[1;31mNameError\u001b[0m                                 Traceback (most recent call last)",
      "\u001b[1;32m<ipython-input-29-995ab24cbd31>\u001b[0m in \u001b[0;36m<module>\u001b[1;34m\u001b[0m\n\u001b[0;32m      2\u001b[0m \u001b[0mnp\u001b[0m\u001b[1;33m.\u001b[0m\u001b[0mseterr\u001b[0m\u001b[1;33m(\u001b[0m\u001b[0mall\u001b[0m\u001b[1;33m=\u001b[0m\u001b[1;34m'ignore'\u001b[0m\u001b[1;33m)\u001b[0m\u001b[1;31m# 不提示\u001b[0m\u001b[1;33m\u001b[0m\u001b[1;33m\u001b[0m\u001b[0m\n\u001b[0;32m      3\u001b[0m \u001b[0mZ\u001b[0m \u001b[1;33m=\u001b[0m \u001b[0mnp\u001b[0m\u001b[1;33m.\u001b[0m\u001b[0mones\u001b[0m\u001b[1;33m(\u001b[0m\u001b[1;36m1\u001b[0m\u001b[1;33m)\u001b[0m \u001b[1;33m/\u001b[0m \u001b[1;36m0\u001b[0m\u001b[1;33m\u001b[0m\u001b[1;33m\u001b[0m\u001b[0m\n\u001b[1;32m----> 4\u001b[1;33m \u001b[0m_\u001b[0m \u001b[1;33m=\u001b[0m \u001b[0mnp\u001b[0m\u001b[1;33m.\u001b[0m\u001b[0mseterr\u001b[0m\u001b[1;33m(\u001b[0m\u001b[1;33m**\u001b[0m\u001b[0mdefaults\u001b[0m\u001b[1;33m)\u001b[0m\u001b[1;31m# 回到默认\u001b[0m\u001b[1;33m\u001b[0m\u001b[1;33m\u001b[0m\u001b[0m\n\u001b[0m",
      "\u001b[1;31mNameError\u001b[0m: name 'defaults' is not defined"
     ]
    }
   ],
   "source": [
    "# 31.如何忽略warnings\n",
    "np.seterr(all='ignore')# 不提示\n",
    "Z = np.ones(1) / 0\n",
    "_ = np.seterr(**defaults)# 回到默认\n"
   ]
  },
  {
   "cell_type": "code",
   "execution_count": 30,
   "metadata": {},
   "outputs": [
    {
     "data": {
      "text/plain": [
       "False"
      ]
     },
     "execution_count": 30,
     "metadata": {},
     "output_type": "execute_result"
    }
   ],
   "source": [
    "# 32.下面的表达式是True吗\n",
    "np.sqrt(-1) == np.emath.sqrt(-1)\n",
    "# np.emath对象是对虚数进行操作"
   ]
  },
  {
   "cell_type": "code",
   "execution_count": 31,
   "metadata": {},
   "outputs": [
    {
     "name": "stdout",
     "output_type": "stream",
     "text": [
      "2020-10-12 2020-10-11 2020-10-13\n"
     ]
    }
   ],
   "source": [
    "# 33.如何获取昨天、今天和明天的日期\n",
    "today = np.datetime64('today')\n",
    "yesterday = np.datetime64('today')-np.timedelta64(1)\n",
    "tomorrow = np.datetime64('today')+np.timedelta64(1)\n",
    "print(today,yesterday,tomorrow)"
   ]
  },
  {
   "cell_type": "code",
   "execution_count": 32,
   "metadata": {},
   "outputs": [
    {
     "name": "stdout",
     "output_type": "stream",
     "text": [
      "['2020-07-01' '2020-07-02' '2020-07-03' '2020-07-04' '2020-07-05'\n",
      " '2020-07-06' '2020-07-07' '2020-07-08' '2020-07-09' '2020-07-10'\n",
      " '2020-07-11' '2020-07-12' '2020-07-13' '2020-07-14' '2020-07-15'\n",
      " '2020-07-16' '2020-07-17' '2020-07-18' '2020-07-19' '2020-07-20'\n",
      " '2020-07-21' '2020-07-22' '2020-07-23' '2020-07-24' '2020-07-25'\n",
      " '2020-07-26' '2020-07-27' '2020-07-28' '2020-07-29' '2020-07-30'\n",
      " '2020-07-31' '2020-08-01' '2020-08-02' '2020-08-03' '2020-08-04'\n",
      " '2020-08-05' '2020-08-06' '2020-08-07' '2020-08-08' '2020-08-09'\n",
      " '2020-08-10' '2020-08-11' '2020-08-12' '2020-08-13' '2020-08-14'\n",
      " '2020-08-15' '2020-08-16' '2020-08-17' '2020-08-18' '2020-08-19'\n",
      " '2020-08-20' '2020-08-21' '2020-08-22' '2020-08-23' '2020-08-24'\n",
      " '2020-08-25' '2020-08-26' '2020-08-27' '2020-08-28' '2020-08-29'\n",
      " '2020-08-30' '2020-08-31' '2020-09-01' '2020-09-02' '2020-09-03'\n",
      " '2020-09-04' '2020-09-05' '2020-09-06' '2020-09-07' '2020-09-08'\n",
      " '2020-09-09' '2020-09-10' '2020-09-11' '2020-09-12' '2020-09-13'\n",
      " '2020-09-14' '2020-09-15' '2020-09-16' '2020-09-17' '2020-09-18'\n",
      " '2020-09-19' '2020-09-20' '2020-09-21' '2020-09-22' '2020-09-23'\n",
      " '2020-09-24' '2020-09-25' '2020-09-26' '2020-09-27' '2020-09-28'\n",
      " '2020-09-29' '2020-09-30']\n"
     ]
    }
   ],
   "source": [
    "# 34.如何获得某个时间段内的所有时间\n",
    "# 通过arange()函数，传入时间参数和dtype格式\n",
    "during = np.arange('2020-07','2020-10',dtype='datetime64[D]')\n",
    "print(during)"
   ]
  },
  {
   "cell_type": "code",
   "execution_count": 41,
   "metadata": {},
   "outputs": [
    {
     "name": "stdout",
     "output_type": "stream",
     "text": [
      "[1. 1. 1.] [2. 2. 2.] [3. 3. 3.]\n",
      "[3. 3. 3.]\n",
      "[1.5 1.5 1.5]\n",
      "[-1.5 -1.5 -1.5]\n",
      "[-4.5 -4.5 -4.5]\n"
     ]
    }
   ],
   "source": [
    "# 35.如何计算((A+B)*(-A/2))不通过copy\n",
    "A = np.ones(3)*1\n",
    "B = np.ones(3)*2\n",
    "C = np.ones(3)*3\n",
    "print(A,B,C)\n",
    "# 加法\n",
    "np.add(A,B,out = A)\n",
    "print(A)\n",
    "# 除法\n",
    "np.divide(A,2,out=A)\n",
    "print(A)\n",
    "# 相反数\n",
    "np.negative(A,out=A)\n",
    "print(A)\n",
    "# 翻倍的倍数\n",
    "np.multiply(A,C,out=A)\n",
    "print(A)"
   ]
  },
  {
   "cell_type": "code",
   "execution_count": 50,
   "metadata": {},
   "outputs": [
    {
     "name": "stdout",
     "output_type": "stream",
     "text": [
      "[9.90348548 0.72435075 4.27918681 6.1713914  0.68623456 2.32226196\n",
      " 0.14024712 2.24395762 0.23078504 4.38199487]\n",
      "[9. 0. 4. 6. 0. 2. 0. 2. 0. 4.]\n",
      "[9. 0. 4. 6. 0. 2. 0. 2. 0. 4.]\n",
      "[9 0 4 6 0 2 0 2 0 4]\n",
      "[9. 0. 4. 6. 0. 2. 0. 2. 0. 4.]\n"
     ]
    }
   ],
   "source": [
    "# 36.用四种不同的方法，从一个随机数构成的数组中取出随机数里面的整数位部分\n",
    "Z = np.random.uniform(0,10,10)# 产生10个0-10区间内的随机数\n",
    "print(Z)\n",
    "print(Z-Z%1) #对1取余会得到小数点后的数\n",
    "print(np.floor(Z)) #floor函数直接对数取整\n",
    "print(Z.astype(int)) #astype(int)函数，进行强制类型转换\n",
    "print(np.trunc(Z)) #np.trunc函数，转换类型"
   ]
  },
  {
   "cell_type": "code",
   "execution_count": 57,
   "metadata": {},
   "outputs": [
    {
     "name": "stdout",
     "output_type": "stream",
     "text": [
      "[[0. 1. 2. 3. 4.]\n",
      " [0. 1. 2. 3. 4.]\n",
      " [0. 1. 2. 3. 4.]\n",
      " [0. 1. 2. 3. 4.]\n",
      " [0. 1. 2. 3. 4.]]\n"
     ]
    }
   ],
   "source": [
    "# 37.创建一个行元素区间在0-4之间的5*5矩阵\n",
    "Z = np.zeros((5,5))# 定义一个0矩阵\n",
    "Z += np.arange(5)# 生成一个一维ndarray\n",
    "print(Z)# 利用ndarray计算是每个行都计算的特性"
   ]
  },
  {
   "cell_type": "code",
   "execution_count": 65,
   "metadata": {},
   "outputs": [
    {
     "name": "stdout",
     "output_type": "stream",
     "text": [
      "[0 1 2]\n"
     ]
    }
   ],
   "source": [
    "# 38.定义一个生成函数，生成10个整数，并用它构建一个数组\n",
    "def generator():\n",
    "# 生成函数定义（生成器）\n",
    "    for i in range(10):\n",
    "        yield i#\n",
    "        \n",
    "print(np.fromiter(generator(),int,3))\n",
    "# np.fromiter()函数，根据一个生成器iterator，返回一个dtype类型，n个个数的ndarray\n",
    "\n",
    "    "
   ]
  },
  {
   "cell_type": "code",
   "execution_count": 87,
   "metadata": {},
   "outputs": [
    {
     "name": "stdout",
     "output_type": "stream",
     "text": [
      "[0.09090909 0.18181818 0.27272727 0.36363636 0.45454545 0.54545455\n",
      " 0.63636364 0.72727273 0.81818182 0.90909091]\n"
     ]
    }
   ],
   "source": [
    "# 39.生成一个长度为10的向量，值在0，1开区间\n",
    "Z = np.linspace(0,1,11,endpoint=False)[1:] # linspace()函数，返回一个区间内的等差数列，设定\n",
    "print(Z)\n",
    "# start:返回样本数据开始点\n",
    "# stop:返回样本数据结束点\n",
    "# num:生成的样本数据量，默认为50\n",
    "# endpoint：True则包含stop；False则不包含stop\n",
    "# retstep：If True, return (samples, step), where step is the spacing between samples.(即如果为True则结果会给出数据间隔)\n",
    "# dtype：输出数组类型\n",
    "# axis：0(默认)或-1\n"
   ]
  },
  {
   "cell_type": "code",
   "execution_count": 90,
   "metadata": {},
   "outputs": [
    {
     "name": "stdout",
     "output_type": "stream",
     "text": [
      "[0.01290856 0.24795886 0.26136835 0.40345    0.41976022 0.46542431\n",
      " 0.67922514 0.68120371 0.74230564 0.75696577]\n"
     ]
    }
   ],
   "source": [
    "# 40.建立一个长度为10的随机数组并排序，用sort(函数)\n",
    "Z = np.random.random(10)\n",
    "Z.sort()\n",
    "print(Z)"
   ]
  },
  {
   "cell_type": "code",
   "execution_count": 92,
   "metadata": {},
   "outputs": [
    {
     "data": {
      "text/plain": [
       "4.670570560745431"
      ]
     },
     "execution_count": 92,
     "metadata": {},
     "output_type": "execute_result"
    }
   ],
   "source": [
    "# 41.如何比np.sum()函数更快的求一个小型array的和\n",
    "# add.reduce\n",
    "np.add.reduce(Z)# 相加"
   ]
  },
  {
   "cell_type": "code",
   "execution_count": 98,
   "metadata": {},
   "outputs": [
    {
     "data": {
      "text/plain": [
       "True"
      ]
     },
     "execution_count": 98,
     "metadata": {},
     "output_type": "execute_result"
    }
   ],
   "source": [
    "# 42.判断两个array是否相等\n",
    "a1 = np.array([1,3,5])\n",
    "a2 = np.array([1,3,5])\n",
    "np.equal(a1,a2) # 用np.equal()仅能判断每个元素是否相等\n",
    "np.array_equal(a1,a2) # np.array_equal()能够判断是否相等\n",
    "np.allclose(a1,a2)# allclose()函数能够判断array是否相等"
   ]
  },
  {
   "cell_type": "code",
   "execution_count": 102,
   "metadata": {},
   "outputs": [
    {
     "ename": "ValueError",
     "evalue": "assignment destination is read-only",
     "output_type": "error",
     "traceback": [
      "\u001b[1;31m---------------------------------------------------------------------------\u001b[0m",
      "\u001b[1;31mValueError\u001b[0m                                Traceback (most recent call last)",
      "\u001b[1;32m<ipython-input-102-9bfb8fe9d735>\u001b[0m in \u001b[0;36m<module>\u001b[1;34m\u001b[0m\n\u001b[0;32m      2\u001b[0m \u001b[0ma3\u001b[0m \u001b[1;33m=\u001b[0m \u001b[0mnp\u001b[0m\u001b[1;33m.\u001b[0m\u001b[0marray\u001b[0m\u001b[1;33m(\u001b[0m\u001b[1;33m[\u001b[0m\u001b[1;36m1\u001b[0m\u001b[1;33m,\u001b[0m\u001b[1;36m3\u001b[0m\u001b[1;33m,\u001b[0m\u001b[1;36m5\u001b[0m\u001b[1;33m]\u001b[0m\u001b[1;33m)\u001b[0m\u001b[1;33m\u001b[0m\u001b[1;33m\u001b[0m\u001b[0m\n\u001b[0;32m      3\u001b[0m \u001b[0ma3\u001b[0m\u001b[1;33m.\u001b[0m\u001b[0mflags\u001b[0m\u001b[1;33m.\u001b[0m\u001b[0mwriteable\u001b[0m \u001b[1;33m=\u001b[0m \u001b[1;32mFalse\u001b[0m \u001b[1;31m#通过array的flag.writeable参数控制\u001b[0m\u001b[1;33m\u001b[0m\u001b[1;33m\u001b[0m\u001b[0m\n\u001b[1;32m----> 4\u001b[1;33m \u001b[0ma3\u001b[0m\u001b[1;33m[\u001b[0m\u001b[1;36m1\u001b[0m\u001b[1;33m]\u001b[0m\u001b[1;33m=\u001b[0m\u001b[1;36m0\u001b[0m\u001b[1;33m\u001b[0m\u001b[1;33m\u001b[0m\u001b[0m\n\u001b[0m",
      "\u001b[1;31mValueError\u001b[0m: assignment destination is read-only"
     ]
    }
   ],
   "source": [
    "# 43.创建一个只读的array\n",
    "a3 = np.array([1,3,5])\n",
    "a3.flags.writeable = False #通过array的flag.writeable参数控制\n",
    "a3[1]=0"
   ]
  },
  {
   "cell_type": "code",
   "execution_count": 22,
   "metadata": {},
   "outputs": [
    {
     "name": "stdout",
     "output_type": "stream",
     "text": [
      "[[0.20911219 0.62961865]\n",
      " [0.66928533 0.1851879 ]\n",
      " [0.65433753 0.91422411]\n",
      " [0.02131345 0.08965517]\n",
      " [0.18014335 0.34633786]\n",
      " [0.61376124 0.3779544 ]\n",
      " [0.48830132 0.77704083]\n",
      " [0.76600943 0.15733682]\n",
      " [0.4550075  0.98124231]\n",
      " [0.03598329 0.47855182]]\n",
      "[0.66343617 0.69443315 1.12426124 0.09215375 0.3903864  0.72079983\n",
      " 0.91773124 0.78200084 1.0816045  0.47990274] [1.25013353 0.26994135 0.94959121 1.33740174 1.09116872 0.55195649\n",
      " 1.00974763 0.20258054 1.1366035  1.49574551]\n"
     ]
    }
   ],
   "source": [
    "# 44.创建一个10行2列的随机矩阵，表示笛卡尔坐标系，将其转换为极坐标\n",
    "coords = np.random.random((10,2))\n",
    "print(coords)\n",
    "X = coords[:,0]\n",
    "Y = coords[:,1]\n",
    "R = np.sqrt(X**2+Y**2)\n",
    "O = np.arctan2(Y,X)\n",
    "print(R,O)"
   ]
  },
  {
   "cell_type": "code",
   "execution_count": 25,
   "metadata": {},
   "outputs": [
    {
     "name": "stdout",
     "output_type": "stream",
     "text": [
      "[0.65425711 0.55839631 0.16318146 0.33705772 0.4936048  0.08547886\n",
      " 0.10858873 0.72759516 0.09804005 0.77707286]\n",
      "[0.65425711 0.55839631 0.16318146 0.33705772 0.4936048  0.08547886\n",
      " 0.10858873 0.72759516 0.09804005 0.        ]\n"
     ]
    }
   ],
   "source": [
    "# 45.创建一个长度为10的随机向量，并且将最大值替换为0\n",
    "Z = np.random.random(10)\n",
    "print(Z)\n",
    "Z[np.argmax(Z)]=0\n",
    "print(Z)"
   ]
  },
  {
   "cell_type": "code",
   "execution_count": 39,
   "metadata": {},
   "outputs": [
    {
     "name": "stdout",
     "output_type": "stream",
     "text": [
      "[[(0.  , 0.  ) (0.25, 0.  ) (0.5 , 0.  ) (0.75, 0.  ) (1.  , 0.  )]\n",
      " [(0.  , 0.25) (0.25, 0.25) (0.5 , 0.25) (0.75, 0.25) (1.  , 0.25)]\n",
      " [(0.  , 0.5 ) (0.25, 0.5 ) (0.5 , 0.5 ) (0.75, 0.5 ) (1.  , 0.5 )]\n",
      " [(0.  , 0.75) (0.25, 0.75) (0.5 , 0.75) (0.75, 0.75) (1.  , 0.75)]\n",
      " [(0.  , 1.  ) (0.25, 1.  ) (0.5 , 1.  ) (0.75, 1.  ) (1.  , 1.  )]]\n"
     ]
    }
   ],
   "source": [
    "# 46.创建一个结构化的数组，元素用x，y坐标组成，覆盖[0,1]*[0,1]的区域\n",
    "Z = np.zeros((5,5),[('x',float),('y',float)])\n",
    "# meshgrid函数：生成坐标矩阵,meshgrid里面两维数据，一维x，一维y，按linspace进行排列\n",
    "Z['x'],Z['y']=np.meshgrid(np.linspace(0,1,5),np.linspace(0,1,5))\n",
    "print(Z)"
   ]
  },
  {
   "cell_type": "code",
   "execution_count": 46,
   "metadata": {},
   "outputs": [
    {
     "name": "stdout",
     "output_type": "stream",
     "text": [
      "[[-2.         -0.66666667 -0.4        -0.28571429 -0.22222222 -0.18181818\n",
      "  -0.15384615 -0.13333333 -0.11764706 -0.10526316]\n",
      " [ 2.         -2.         -0.66666667 -0.4        -0.28571429 -0.22222222\n",
      "  -0.18181818 -0.15384615 -0.13333333 -0.11764706]\n",
      " [ 0.66666667  2.         -2.         -0.66666667 -0.4        -0.28571429\n",
      "  -0.22222222 -0.18181818 -0.15384615 -0.13333333]\n",
      " [ 0.4         0.66666667  2.         -2.         -0.66666667 -0.4\n",
      "  -0.28571429 -0.22222222 -0.18181818 -0.15384615]\n",
      " [ 0.28571429  0.4         0.66666667  2.         -2.         -0.66666667\n",
      "  -0.4        -0.28571429 -0.22222222 -0.18181818]\n",
      " [ 0.22222222  0.28571429  0.4         0.66666667  2.         -2.\n",
      "  -0.66666667 -0.4        -0.28571429 -0.22222222]\n",
      " [ 0.18181818  0.22222222  0.28571429  0.4         0.66666667  2.\n",
      "  -2.         -0.66666667 -0.4        -0.28571429]\n",
      " [ 0.15384615  0.18181818  0.22222222  0.28571429  0.4         0.66666667\n",
      "   2.         -2.         -0.66666667 -0.4       ]\n",
      " [ 0.13333333  0.15384615  0.18181818  0.22222222  0.28571429  0.4\n",
      "   0.66666667  2.         -2.         -0.66666667]\n",
      " [ 0.11764706  0.13333333  0.15384615  0.18181818  0.22222222  0.28571429\n",
      "   0.4         0.66666667  2.         -2.        ]]\n",
      "33961.93294480225\n"
     ]
    }
   ],
   "source": [
    "# 47.给出两个数组，构造柯西矩阵\n",
    "X = np.arange(10)\n",
    "Y = X + 0.5\n",
    "C = 1.0 / np.subtract.outer(X, Y)#用x-y，启用广播机制\n",
    "print(C)\n",
    "print(np.linalg.det(C))# 线性代数运算，求行列式的值"
   ]
  },
  {
   "cell_type": "code",
   "execution_count": 54,
   "metadata": {},
   "outputs": [
    {
     "name": "stdout",
     "output_type": "stream",
     "text": [
      "<class 'numpy.int64'> min: -9223372036854775808\n",
      "<class 'numpy.int64'> max: 9223372036854775807\n",
      "<class 'numpy.int8'> min: -128\n",
      "<class 'numpy.int8'> max: 127\n",
      "<class 'numpy.int16'> min: -32768\n",
      "<class 'numpy.int16'> max: 32767\n",
      "<class 'numpy.int32'> min: -2147483648\n",
      "<class 'numpy.int32'> max: 2147483647\n",
      "<class 'numpy.int64'> min: -9223372036854775808\n",
      "<class 'numpy.int64'> max: 9223372036854775807\n",
      "<class 'float'> min -1.7976931348623157e+308\n",
      "<class 'float'> max 1.7976931348623157e+308\n",
      "<class 'float'> eps 2.220446049250313e-16\n",
      "<class 'numpy.float16'> min -65500.0\n",
      "<class 'numpy.float16'> max 65500.0\n",
      "<class 'numpy.float16'> eps 0.000977\n",
      "<class 'numpy.float32'> min -3.4028235e+38\n",
      "<class 'numpy.float32'> max 3.4028235e+38\n",
      "<class 'numpy.float32'> eps 1.1920929e-07\n",
      "<class 'numpy.float64'> min -1.7976931348623157e+308\n",
      "<class 'numpy.float64'> max 1.7976931348623157e+308\n",
      "<class 'numpy.float64'> eps 2.220446049250313e-16\n"
     ]
    }
   ],
   "source": [
    "# 48. 打印每种numpy数量类型的最小和最大可表示值（int、float等类型的数据范围)\n",
    "for dtype in [np.int0,np.int8,np.int16,np.int32,np.int64]:\n",
    "    print(dtype,'min:',np.iinfo(dtype).min)\n",
    "    print(dtype,'max:',np.iinfo(dtype).max)\n",
    "for dtype in [np.float,np.float16,np.float32,np.float64]:\n",
    "    print(dtype,'min',np.finfo(dtype).min)\n",
    "    print(dtype,'max',np.finfo(dtype).max)\n",
    "    print(dtype,'eps',np.finfo(dtype).eps)"
   ]
  },
  {
   "cell_type": "code",
   "execution_count": 78,
   "metadata": {},
   "outputs": [
    {
     "name": "stdout",
     "output_type": "stream",
     "text": [
      "[[0. 0. 0. 0. 0. 0. 0. 0. 0. 0. 0. 0. 0. 0. 0. 0.]\n",
      " [0. 0. 0. 0. 0. 0. 0. 0. 0. 0. 0. 0. 0. 0. 0. 0.]\n",
      " [0. 0. 0. 0. 0. 0. 0. 0. 0. 0. 0. 0. 0. 0. 0. 0.]\n",
      " [0. 0. 0. 0. 0. 0. 0. 0. 0. 0. 0. 0. 0. 0. 0. 0.]\n",
      " [0. 0. 0. 0. 0. 0. 0. 0. 0. 0. 0. 0. 0. 0. 0. 0.]\n",
      " [0. 0. 0. 0. 0. 0. 0. 0. 0. 0. 0. 0. 0. 0. 0. 0.]\n",
      " [0. 0. 0. 0. 0. 0. 0. 0. 0. 0. 0. 0. 0. 0. 0. 0.]\n",
      " [0. 0. 0. 0. 0. 0. 0. 0. 0. 0. 0. 0. 0. 0. 0. 0.]\n",
      " [0. 0. 0. 0. 0. 0. 0. 0. 0. 0. 0. 0. 0. 0. 0. 0.]\n",
      " [0. 0. 0. 0. 0. 0. 0. 0. 0. 0. 0. 0. 0. 0. 0. 0.]\n",
      " [0. 0. 0. 0. 0. 0. 0. 0. 0. 0. 0. 0. 0. 0. 0. 0.]\n",
      " [0. 0. 0. 0. 0. 0. 0. 0. 0. 0. 0. 0. 0. 0. 0. 0.]\n",
      " [0. 0. 0. 0. 0. 0. 0. 0. 0. 0. 0. 0. 0. 0. 0. 0.]\n",
      " [0. 0. 0. 0. 0. 0. 0. 0. 0. 0. 0. 0. 0. 0. 0. 0.]\n",
      " [0. 0. 0. 0. 0. 0. 0. 0. 0. 0. 0. 0. 0. 0. 0. 0.]\n",
      " [0. 0. 0. 0. 0. 0. 0. 0. 0. 0. 0. 0. 0. 0. 0. 0.]]\n"
     ]
    }
   ],
   "source": [
    "# 49.如何打印一个ndarray下的所有值，设置np.printoption()的参数\n",
    "np.printoptions(threshold=float(\"inf\"))\n",
    "Z = np.zeros((16,16))\n",
    "print(Z)"
   ]
  },
  {
   "cell_type": "code",
   "execution_count": 83,
   "metadata": {},
   "outputs": [
    {
     "name": "stdout",
     "output_type": "stream",
     "text": [
      "5\n"
     ]
    }
   ],
   "source": [
    "# 50.如何找到在一个向量中给定尺度下最近的值\n",
    "Z=np.arange(10)# 给出一个数组\n",
    "Y=np.random.uniform(0,10)# 给出一个值\n",
    "index = (np.abs(Z-Y)).argmin() # 用数组与数运算计算距离array，用argmin定位到距离最小index\n",
    "print(Z[index])# 输出index对应的value"
   ]
  },
  {
   "cell_type": "code",
   "execution_count": 89,
   "metadata": {},
   "outputs": [
    {
     "name": "stdout",
     "output_type": "stream",
     "text": [
      "[((0., 0.), (0., 0., 0.)) ((0., 0.), (0., 0., 0.))\n",
      " ((0., 0.), (0., 0., 0.)) ((0., 0.), (0., 0., 0.))\n",
      " ((0., 0.), (0., 0., 0.)) ((0., 0.), (0., 0., 0.))\n",
      " ((0., 0.), (0., 0., 0.)) ((0., 0.), (0., 0., 0.))\n",
      " ((0., 0.), (0., 0., 0.)) ((0., 0.), (0., 0., 0.))]\n"
     ]
    },
    {
     "name": "stderr",
     "output_type": "stream",
     "text": [
      "<ipython-input-89-62aa52e03b44>:3: FutureWarning: Passing (type, 1) or '1type' as a synonym of type is deprecated; in a future version of numpy, it will be understood as (type, (1,)) / '(1,)type'.\n",
      "  Z = np.zeros(10,[('positon',[('x',float,1),('y',float,1)]),('color',[('r',float,1),('g',float,1),('b',float,1)])])\n"
     ]
    }
   ],
   "source": [
    "# 51.创建一个结构化的一维数组表示位置position:x,y和颜色color:r,g,b\n",
    "# 定义dtype,dtype是一个列表，里面每一项是一个元组，第一项是name，第二项是一个列表，内容是定义属性的元组\n",
    "Z = np.zeros(10,[('positon',[('x',float,1),('y',float,1)]),('color',[('r',float,1),('g',float,1),('b',float,1)])])\n",
    "print(Z)"
   ]
  },
  {
   "cell_type": "code",
   "execution_count": 109,
   "metadata": {},
   "outputs": [
    {
     "name": "stdout",
     "output_type": "stream",
     "text": [
      "[[1.43496526 8.1579524 ]\n",
      " [8.56791629 5.06008577]\n",
      " [7.43384123 1.66938646]] \n",
      "\n",
      "[[1.43496526 8.56791629 7.43384123]] \n",
      "\n",
      "[[8.1579524  5.06008577 1.66938646]] \n",
      "\n",
      "[[0.         7.77661675 8.83674154]\n",
      " [7.77661675 0.         3.57532769]\n",
      " [8.83674154 3.57532769 0.        ]]\n"
     ]
    }
   ],
   "source": [
    "# 52.定义一个随机向量，10*2，表示坐标，找到点到点之间的距离\n",
    "Z = np.random.random((3,2))*10\n",
    "X,Y = np.atleast_2d(Z[:,0],Z[:,1]) # 将输入的数组转换为至少两维，此处把坐标的行列均转换为两维数据\n",
    "print(Z,'\\n')\n",
    "print(X,'\\n')\n",
    "print(Y,'\\n')\n",
    "\n",
    "D = np.sqrt((X-X.T)**2+(Y-Y.T)**2)# 利用ndarray的\n",
    "print(D)\n"
   ]
  },
  {
   "cell_type": "code",
   "execution_count": 117,
   "metadata": {},
   "outputs": [
    {
     "name": "stdout",
     "output_type": "stream",
     "text": [
      "[5.022795  1.3192581 9.882374  7.326775  1.7056857 1.9440364 7.834335\n",
      " 8.764394  1.0810813 9.742402 ] \n",
      "\n",
      "[5 1 9 7 1 1 7 8 1 9]\n"
     ]
    }
   ],
   "source": [
    "# 53. 如何把一个32位的float数组转换为integer的在本地\n",
    "# tips:使用view和[:]\n",
    "Z = (np.random.random(10)).astype(np.float32)*10\n",
    "print(Z,'\\n')\n",
    "Y = Z.view(np.int32)# view在本地进行内存区域的切割操作，无需开辟新的内存空间\n",
    "Y[:]=Z\n",
    "print(Y)\n"
   ]
  },
  {
   "cell_type": "code",
   "execution_count": 119,
   "metadata": {},
   "outputs": [
    {
     "name": "stdout",
     "output_type": "stream",
     "text": [
      "[[ 1  2  3  4  5]\n",
      " [ 6 -1 -1  7  8]\n",
      " [-1 -1  9 10 11]]\n"
     ]
    }
   ],
   "source": [
    "# 54.如何读取下面的文件\n",
    "# 1, 2, 3, 4, 5\n",
    "# 6,  ,  , 7, 8\n",
    "#  ,  , 9,10,11\n",
    "from io import StringIO # 导入string io模块\n",
    "\n",
    "s = StringIO('''\n",
    "1, 2, 3, 4, 5\n",
    "6,  ,  , 7, 8\n",
    " ,  , 9,10,11\n",
    " ''')\n",
    "Z = np.genfromtxt(s,delimiter=',',dtype=np.int) # 从txt中获取ndarray，传入字符串IO，输入分隔符，类型\n",
    "print(Z)"
   ]
  },
  {
   "cell_type": "code",
   "execution_count": 126,
   "metadata": {},
   "outputs": [
    {
     "name": "stdout",
     "output_type": "stream",
     "text": [
      "(0, 0) 0\n",
      "(0, 1) 1\n",
      "(0, 2) 2\n",
      "(1, 0) 3\n",
      "(1, 1) 4\n",
      "(1, 2) 5\n",
      "(2, 0) 6\n",
      "(2, 1) 7\n",
      "(2, 2) 8\n",
      "\n",
      "\n",
      "(0, 0) 0\n",
      "(0, 1) 1\n",
      "(0, 2) 2\n",
      "(1, 0) 3\n",
      "(1, 1) 4\n",
      "(1, 2) 5\n",
      "(2, 0) 6\n",
      "(2, 1) 7\n",
      "(2, 2) 8\n"
     ]
    }
   ],
   "source": [
    "# 55.numpy数组的枚举是什么？\n",
    "Z=np.arange(9).reshape(3,3)\n",
    "for index,value in np.ndenumerate(Z):\n",
    "    print(index,value)# index为行列的index元组，value为值\n",
    "print('\\n')\n",
    "for index in np.ndindex(Z.shape):\n",
    "    print(index,Z[index])\n",
    "    \n",
    "# ndenumerate和ndindex返回不同的结果，具有不同的用法"
   ]
  },
  {
   "cell_type": "code",
   "execution_count": 133,
   "metadata": {},
   "outputs": [
    {
     "name": "stdout",
     "output_type": "stream",
     "text": [
      "[[0.36787944 0.44822088 0.51979489 0.57375342 0.60279818 0.60279818\n",
      "  0.57375342 0.51979489 0.44822088 0.36787944]\n",
      " [0.44822088 0.54610814 0.63331324 0.69905581 0.73444367 0.73444367\n",
      "  0.69905581 0.63331324 0.54610814 0.44822088]\n",
      " [0.51979489 0.63331324 0.73444367 0.81068432 0.85172308 0.85172308\n",
      "  0.81068432 0.73444367 0.63331324 0.51979489]\n",
      " [0.57375342 0.69905581 0.81068432 0.89483932 0.9401382  0.9401382\n",
      "  0.89483932 0.81068432 0.69905581 0.57375342]\n",
      " [0.60279818 0.73444367 0.85172308 0.9401382  0.98773022 0.98773022\n",
      "  0.9401382  0.85172308 0.73444367 0.60279818]\n",
      " [0.60279818 0.73444367 0.85172308 0.9401382  0.98773022 0.98773022\n",
      "  0.9401382  0.85172308 0.73444367 0.60279818]\n",
      " [0.57375342 0.69905581 0.81068432 0.89483932 0.9401382  0.9401382\n",
      "  0.89483932 0.81068432 0.69905581 0.57375342]\n",
      " [0.51979489 0.63331324 0.73444367 0.81068432 0.85172308 0.85172308\n",
      "  0.81068432 0.73444367 0.63331324 0.51979489]\n",
      " [0.44822088 0.54610814 0.63331324 0.69905581 0.73444367 0.73444367\n",
      "  0.69905581 0.63331324 0.54610814 0.44822088]\n",
      " [0.36787944 0.44822088 0.51979489 0.57375342 0.60279818 0.60279818\n",
      "  0.57375342 0.51979489 0.44822088 0.36787944]]\n"
     ]
    }
   ],
   "source": [
    "# 56.生成通用的二维高斯分布数组（正态分布）\n",
    "X,Y = np.meshgrid(np.linspace(-1,1,10),np.linspace(-1,1,10))# 生成两个-1,1之间均匀分布的mesh网格数据\n",
    "D=np.sqrt(X*X+Y*Y) # 进行平方和开方处理\n",
    "sigma,mu =1.0,0.0 # 初始化sigma和miu\n",
    "G =np.exp(-((D-mu)**2/(2.0*sigma**2))) # 形成正态分布公式\n",
    "print(G) # 输出"
   ]
  },
  {
   "cell_type": "code",
   "execution_count": 139,
   "metadata": {},
   "outputs": [
    {
     "name": "stdout",
     "output_type": "stream",
     "text": [
      "[[0. 0. 0. 0. 0. 0. 0. 0. 0. 0.]\n",
      " [0. 0. 0. 0. 0. 0. 0. 0. 0. 1.]\n",
      " [0. 1. 0. 0. 0. 0. 0. 0. 0. 0.]\n",
      " [0. 0. 0. 0. 0. 0. 0. 0. 0. 0.]\n",
      " [0. 0. 0. 0. 0. 0. 0. 0. 0. 0.]\n",
      " [0. 0. 0. 0. 0. 0. 0. 0. 0. 0.]\n",
      " [0. 0. 0. 0. 0. 0. 0. 0. 1. 0.]\n",
      " [0. 0. 0. 0. 0. 1. 0. 0. 0. 0.]\n",
      " [0. 0. 0. 0. 0. 0. 0. 0. 0. 0.]\n",
      " [0. 0. 1. 0. 0. 0. 0. 0. 0. 0.]]\n"
     ]
    }
   ],
   "source": [
    "# 57.如何在2D数组中随机放置p个元素？采用put函数\n",
    "n = 10\n",
    "p = 5\n",
    "Z = np.zeros((n,n))\n",
    "np.put(Z,np.random.choice(range(n*n),p,replace=False),1)\n",
    "# put函数\n",
    "# 第一个参数为ndarray\n",
    "# 第二个参数为choice函数，传入range(n^2)个index，给定替换的个数p，以及是否可以替代\n",
    "# 第三个参数为替代的数据\n",
    "print(Z)\n"
   ]
  },
  {
   "cell_type": "code",
   "execution_count": 161,
   "metadata": {},
   "outputs": [
    {
     "name": "stdout",
     "output_type": "stream",
     "text": [
      "[[9 2 4]\n",
      " [6 3 3]\n",
      " [9 4 2]\n",
      " [5 7 6]\n",
      " [6 3 0]] \n",
      "\n",
      "[[5.]\n",
      " [4.]\n",
      " [5.]\n",
      " [6.]\n",
      " [3.]] \n",
      "\n",
      "[[ 4. -3. -1.]\n",
      " [ 2. -1. -1.]\n",
      " [ 4. -1. -3.]\n",
      " [-1.  1.  0.]\n",
      " [ 3.  0. -3.]]\n"
     ]
    }
   ],
   "source": [
    "# 58.减去矩阵每一行的均值\n",
    "Z = (np.random.random((5,3))*10).astype(np.int)\n",
    "print(Z,'\\n')\n",
    "# ndarray.mean(axis,keepdims) 传入按行还是按列求平均，是否保持原有维度\n",
    "M = Z.mean(axis=1, keepdims=True) \n",
    "print(M,'\\n')\n",
    "print(Z-M)"
   ]
  },
  {
   "cell_type": "code",
   "execution_count": 178,
   "metadata": {},
   "outputs": [
    {
     "name": "stdout",
     "output_type": "stream",
     "text": [
      "[[6 9 2]\n",
      " [2 3 4]\n",
      " [5 7 8]] \n",
      "\n",
      "[[2 3 4]\n",
      " [5 7 8]\n",
      " [6 9 2]]\n"
     ]
    }
   ],
   "source": [
    "# 59.如何通过第n列排列一个数组\n",
    "Z = np.random.randint(0,10,(3,3))\n",
    "print(Z,'\\n')\n",
    "print(Z[Z[:,1].argsort()]) # Z[:]按行或列排序.argsort()返回一组排序号的index顺序"
   ]
  },
  {
   "cell_type": "code",
   "execution_count": 192,
   "metadata": {},
   "outputs": [
    {
     "name": "stdout",
     "output_type": "stream",
     "text": [
      "[[0 1 0 2 2 0 1 1 0 0]\n",
      " [0 1 1 1 0 0 2 2 0 2]\n",
      " [1 1 2 2 2 1 2 1 2 1]]\n",
      "False\n",
      "[ True  True  True  True  True  True  True  True  True  True]\n",
      "True\n"
     ]
    }
   ],
   "source": [
    "# 60.给出一个二维数组，如何告知有空的列\n",
    "Z = np.random.randint(0,3,(3,10))\n",
    "print(Z)\n",
    "print((~Z.any(axis=0)).any())\n",
    "print(Z.any(axis=0))\n",
    "print((Z.any(axis=0)).any())\n",
    "# 表达式：非（Z中的每个列，判断是否为0，返回一个array）对一维array判断是否有False"
   ]
  },
  {
   "cell_type": "code",
   "execution_count": 213,
   "metadata": {},
   "outputs": [
    {
     "name": "stdout",
     "output_type": "stream",
     "text": [
      "[[4.45856377 2.89447008 4.17126521]\n",
      " [5.5354448  9.6882285  7.75146524]\n",
      " [7.64631089 2.04619791 6.26537492]]\n",
      "5.53544480172847\n"
     ]
    }
   ],
   "source": [
    "# 61. 找到array中距离给定value最近的值\n",
    "Z = np.random.uniform(0,10,(3,3))\n",
    "p = 5\n",
    "print(Z)\n",
    "# print(Z[np.argmin(np.abs(Z-p))])\n",
    "# 一维数组可以直接使用索引，高维应该使用flat函数遍历\n",
    "print(Z.flat[np.argmin(np.abs(Z-p))])"
   ]
  },
  {
   "cell_type": "code",
   "execution_count": 225,
   "metadata": {},
   "outputs": [
    {
     "name": "stdout",
     "output_type": "stream",
     "text": [
      "[[3 0 4]] \n",
      "\n",
      " [[2]\n",
      " [3]\n",
      " [2]]\n",
      "[[5 2 6]\n",
      " [6 3 7]\n",
      " [5 2 6]]\n"
     ]
    },
    {
     "data": {
      "text/plain": [
       "array([[5, 2, 6],\n",
       "       [6, 3, 7],\n",
       "       [5, 2, 6]])"
      ]
     },
     "execution_count": 225,
     "metadata": {},
     "output_type": "execute_result"
    }
   ],
   "source": [
    "# 62.两个(1,3) and (3,1)的array，如何使用一个迭代器计算他们的和\n",
    "X1 = np.random.randint(0,5,(1,3))\n",
    "X2 = np.random.randint(0,5,(3,1))\n",
    "print(X1,'\\n\\n',X2)\n",
    "it = np.nditer([X1,X2,None])\n",
    "for x,y,z in it:\n",
    "    z[...]=x+y\n",
    "print(it.operands[2])\n",
    "\n"
   ]
  },
  {
   "cell_type": "code",
   "execution_count": 14,
   "metadata": {},
   "outputs": [
    {
     "name": "stdout",
     "output_type": "stream",
     "text": [
      "range_10\n",
      "what\n"
     ]
    }
   ],
   "source": [
    "# 63.创建一个k数组类，有一个name属性\n",
    "class NamedClass(np.ndarray):\n",
    "    def __new__(cls,array,name = 'noname',info = 'what'):\n",
    "        obj = np.asarray(array).view(cls)\n",
    "        obj.name = name\n",
    "        obj.infomation = info\n",
    "        return obj\n",
    "    def __array_finalize__(self,obj):\n",
    "        if obj is None:return\n",
    "        self.info = getattr(obj,'name','what')\n",
    "        \n",
    "Z = NamedClass(np.arange(10),'range_10','hhh')\n",
    "print(Z.name)\n",
    "print(Z.info)"
   ]
  },
  {
   "cell_type": "code",
   "execution_count": 52,
   "metadata": {},
   "outputs": [
    {
     "name": "stdout",
     "output_type": "stream",
     "text": [
      "[0 0 0 0 0 0 0 0 0 0] [1 3 3 3 3 3 5 8 9]\n",
      "[0 1 0 5 0 1 0 0 1 1]\n"
     ]
    }
   ],
   "source": [
    "# 64a.考虑一个给定的向量，如何增加1到每个由另一个向量标注的index元素上（注意重复索引）\n",
    "Z = (np.zeros(10)).astype('int32')\n",
    "index = np.array([1,3,3,3,3,3,5,8,9])\n",
    "print(Z, index)\n",
    "np.add.at(Z,index,1) # add.at()函数，在某个向量的某些位置增加，index为一维有效\n",
    "print(Z)"
   ]
  },
  {
   "cell_type": "code",
   "execution_count": 49,
   "metadata": {},
   "outputs": [
    {
     "name": "stdout",
     "output_type": "stream",
     "text": [
      "[1. 1. 1. 1. 1. 1. 1. 1. 1. 1.] [5 9 5 3 3 3 0 0 0 7 2 8 4 2 3 3 5 5 6 3]\n",
      "[3 0 2 6 1 4 1 1 1 1]\n",
      "[4. 1. 3. 7. 2. 5. 2. 2. 2. 2.]\n"
     ]
    }
   ],
   "source": [
    "# 64b.考虑一个给定的向量，如何增加1到每个由另一个向量标注的index元素上（注意重复索引）\n",
    "Z = np.ones(10)\n",
    "I = np.random.randint(0,len(Z),20)\n",
    "print(Z,I)\n",
    "# bincount函数，返回非空整型数组中的每个元素的索引值出现的次数\n",
    "# minlength为bin函数返回值最少的长度\n",
    "print(np.bincount(I, minlength=len(Z)) )\n",
    "Z += np.bincount(I, minlength=len(Z)) \n",
    "print(Z)"
   ]
  },
  {
   "cell_type": "code",
   "execution_count": 68,
   "metadata": {},
   "outputs": [
    {
     "name": "stdout",
     "output_type": "stream",
     "text": [
      "[0. 1. 0. 6. 5. 0. 0. 0. 0. 3. 0. 0. 0. 0. 0. 0. 0. 0. 0. 0. 0. 0. 0. 0.\n",
      " 0. 0. 0. 0. 0. 0. 0. 0. 0. 0. 0. 0. 0. 0. 0. 0. 0. 0. 0. 0. 0. 0. 0. 0.\n",
      " 0. 0. 0. 0. 0. 0. 0. 0. 0. 0. 0. 0. 0. 0. 0. 0. 0. 0. 0. 0. 0. 0. 0. 0.\n",
      " 0. 0. 0. 0. 0. 0. 0. 0. 0. 0. 0. 0. 0. 0. 0. 0. 0. 0. 0. 0. 0. 0. 0. 0.\n",
      " 0. 0. 0. 0. 6.]\n"
     ]
    }
   ],
   "source": [
    "# 65.如何基于一个index列表累积向量X的元素到数组\n",
    "# np.bincount(A,B):把B中的value作为index，从1中挑选元素，累积到新的array的相应index位置\n",
    "X = [1,2,3,4,5,6]\n",
    "I = [1,3,9,3,4,100]\n",
    "F = np.bincount(I,X)\n",
    "print(F)"
   ]
  },
  {
   "cell_type": "code",
   "execution_count": 73,
   "metadata": {},
   "outputs": [
    {
     "name": "stdout",
     "output_type": "stream",
     "text": [
      "[[[1 0 0]\n",
      "  [0 1 0]\n",
      "  [1 0 0]\n",
      "  [1 1 0]\n",
      "  [1 0 1]\n",
      "  [1 0 0]\n",
      "  [1 0 1]\n",
      "  [1 0 1]\n",
      "  [0 1 1]\n",
      "  [1 1 0]\n",
      "  [0 0 0]\n",
      "  [1 1 0]\n",
      "  [1 1 1]\n",
      "  [1 0 1]\n",
      "  [0 0 0]\n",
      "  [1 1 1]]\n",
      "\n",
      " [[1 1 0]\n",
      "  [0 1 0]\n",
      "  [1 1 1]\n",
      "  [1 0 0]\n",
      "  [0 0 0]\n",
      "  [0 0 0]\n",
      "  [1 0 1]\n",
      "  [1 1 0]\n",
      "  [1 1 1]\n",
      "  [0 0 1]\n",
      "  [1 1 0]\n",
      "  [0 0 1]\n",
      "  [0 1 1]\n",
      "  [0 0 0]\n",
      "  [1 0 1]\n",
      "  [0 1 1]]\n",
      "\n",
      " [[0 0 1]\n",
      "  [1 0 0]\n",
      "  [1 0 1]\n",
      "  [1 0 1]\n",
      "  [0 0 0]\n",
      "  [1 0 0]\n",
      "  [0 0 0]\n",
      "  [1 0 1]\n",
      "  [1 1 1]\n",
      "  [1 1 1]\n",
      "  [0 0 0]\n",
      "  [1 1 0]\n",
      "  [1 1 1]\n",
      "  [1 0 1]\n",
      "  [0 1 1]\n",
      "  [0 1 1]]\n",
      "\n",
      " [[1 0 0]\n",
      "  [0 1 0]\n",
      "  [1 0 0]\n",
      "  [0 0 1]\n",
      "  [1 0 1]\n",
      "  [0 1 0]\n",
      "  [1 1 1]\n",
      "  [1 0 0]\n",
      "  [0 0 0]\n",
      "  [1 1 0]\n",
      "  [1 0 0]\n",
      "  [1 0 0]\n",
      "  [0 0 1]\n",
      "  [0 0 1]\n",
      "  [1 1 0]\n",
      "  [1 0 1]]\n",
      "\n",
      " [[0 1 1]\n",
      "  [1 0 0]\n",
      "  [0 0 1]\n",
      "  [1 1 1]\n",
      "  [0 1 1]\n",
      "  [1 0 0]\n",
      "  [1 1 1]\n",
      "  [1 0 1]\n",
      "  [0 0 1]\n",
      "  [1 1 1]\n",
      "  [1 0 0]\n",
      "  [1 0 1]\n",
      "  [0 1 0]\n",
      "  [0 1 0]\n",
      "  [1 0 1]\n",
      "  [0 1 1]]\n",
      "\n",
      " [[0 1 0]\n",
      "  [0 0 0]\n",
      "  [1 0 0]\n",
      "  [0 1 1]\n",
      "  [0 1 1]\n",
      "  [0 0 1]\n",
      "  [1 1 1]\n",
      "  [0 1 0]\n",
      "  [0 0 0]\n",
      "  [0 0 1]\n",
      "  [0 0 0]\n",
      "  [0 1 0]\n",
      "  [0 1 0]\n",
      "  [1 0 0]\n",
      "  [0 0 1]\n",
      "  [1 0 0]]\n",
      "\n",
      " [[1 0 0]\n",
      "  [0 1 0]\n",
      "  [0 0 0]\n",
      "  [1 1 0]\n",
      "  [1 0 1]\n",
      "  [0 1 1]\n",
      "  [0 1 0]\n",
      "  [1 0 1]\n",
      "  [1 0 0]\n",
      "  [0 0 0]\n",
      "  [0 0 0]\n",
      "  [0 1 0]\n",
      "  [1 1 0]\n",
      "  [0 0 1]\n",
      "  [1 0 0]\n",
      "  [0 1 1]]\n",
      "\n",
      " [[1 0 1]\n",
      "  [1 0 1]\n",
      "  [1 0 1]\n",
      "  [0 0 0]\n",
      "  [0 1 1]\n",
      "  [1 1 1]\n",
      "  [0 0 1]\n",
      "  [1 0 1]\n",
      "  [0 0 0]\n",
      "  [0 1 1]\n",
      "  [0 0 1]\n",
      "  [1 1 1]\n",
      "  [0 0 0]\n",
      "  [0 1 1]\n",
      "  [0 0 1]\n",
      "  [0 1 0]]\n",
      "\n",
      " [[0 0 1]\n",
      "  [1 1 0]\n",
      "  [1 1 0]\n",
      "  [0 1 1]\n",
      "  [1 0 0]\n",
      "  [0 1 1]\n",
      "  [1 1 1]\n",
      "  [0 1 1]\n",
      "  [0 0 1]\n",
      "  [1 0 1]\n",
      "  [0 1 1]\n",
      "  [0 0 1]\n",
      "  [1 0 1]\n",
      "  [1 0 1]\n",
      "  [1 1 0]\n",
      "  [1 0 1]]\n",
      "\n",
      " [[0 1 1]\n",
      "  [1 0 0]\n",
      "  [0 1 0]\n",
      "  [0 1 1]\n",
      "  [0 1 1]\n",
      "  [0 1 1]\n",
      "  [0 0 0]\n",
      "  [0 0 1]\n",
      "  [1 1 0]\n",
      "  [0 1 0]\n",
      "  [1 0 0]\n",
      "  [1 1 1]\n",
      "  [1 1 1]\n",
      "  [1 0 1]\n",
      "  [0 1 1]\n",
      "  [0 1 1]]\n",
      "\n",
      " [[0 1 1]\n",
      "  [0 1 0]\n",
      "  [1 1 1]\n",
      "  [1 0 0]\n",
      "  [1 1 1]\n",
      "  [0 1 0]\n",
      "  [1 0 0]\n",
      "  [1 1 1]\n",
      "  [0 0 0]\n",
      "  [0 1 1]\n",
      "  [1 0 1]\n",
      "  [0 0 0]\n",
      "  [1 0 0]\n",
      "  [0 1 0]\n",
      "  [0 0 0]\n",
      "  [1 1 1]]\n",
      "\n",
      " [[0 1 1]\n",
      "  [0 1 1]\n",
      "  [1 0 1]\n",
      "  [0 1 0]\n",
      "  [0 0 1]\n",
      "  [0 1 0]\n",
      "  [1 1 0]\n",
      "  [1 0 1]\n",
      "  [1 0 1]\n",
      "  [1 1 0]\n",
      "  [1 0 0]\n",
      "  [1 1 1]\n",
      "  [1 1 1]\n",
      "  [0 0 0]\n",
      "  [0 1 1]\n",
      "  [0 1 0]]\n",
      "\n",
      " [[0 0 1]\n",
      "  [0 1 0]\n",
      "  [0 0 1]\n",
      "  [0 0 0]\n",
      "  [0 0 0]\n",
      "  [1 1 0]\n",
      "  [0 1 0]\n",
      "  [1 0 0]\n",
      "  [1 1 0]\n",
      "  [1 0 1]\n",
      "  [1 0 1]\n",
      "  [1 1 1]\n",
      "  [1 1 1]\n",
      "  [0 0 1]\n",
      "  [1 1 1]\n",
      "  [0 0 1]]\n",
      "\n",
      " [[0 0 1]\n",
      "  [0 1 0]\n",
      "  [1 0 1]\n",
      "  [1 1 0]\n",
      "  [0 1 1]\n",
      "  [1 1 0]\n",
      "  [0 0 1]\n",
      "  [0 0 1]\n",
      "  [1 1 1]\n",
      "  [1 1 0]\n",
      "  [1 1 1]\n",
      "  [1 1 1]\n",
      "  [1 0 1]\n",
      "  [0 1 1]\n",
      "  [0 0 0]\n",
      "  [0 0 0]]\n",
      "\n",
      " [[1 0 1]\n",
      "  [0 1 1]\n",
      "  [0 0 0]\n",
      "  [1 1 0]\n",
      "  [1 1 0]\n",
      "  [0 0 0]\n",
      "  [0 1 0]\n",
      "  [1 1 0]\n",
      "  [1 1 0]\n",
      "  [1 1 0]\n",
      "  [0 0 0]\n",
      "  [0 1 0]\n",
      "  [1 1 0]\n",
      "  [0 1 1]\n",
      "  [1 0 1]\n",
      "  [0 0 0]]\n",
      "\n",
      " [[1 1 1]\n",
      "  [1 1 1]\n",
      "  [1 0 0]\n",
      "  [0 1 0]\n",
      "  [1 0 1]\n",
      "  [1 0 0]\n",
      "  [0 0 1]\n",
      "  [1 1 1]\n",
      "  [0 0 1]\n",
      "  [0 0 1]\n",
      "  [0 1 1]\n",
      "  [0 1 1]\n",
      "  [1 1 1]\n",
      "  [1 1 0]\n",
      "  [1 0 1]\n",
      "  [1 0 0]]]\n",
      "[[  0 256   0 256   1   0   1   1 257 256   0 256 257   1   0 257]\n",
      " [256 256 257   0   0   0   1 256 257   1 256   1 257   0   1 257]\n",
      " [  1   0   1   1   0   0   0   1 257 257   0 256 257   1 257 257]\n",
      " [  0 256   0   1   1 256 257   0   0 256   0   0   1   1 256   1]\n",
      " [257   0   1 257 257   0 257   1   1 257   0   1 256 256   1 257]\n",
      " [256   0   0 257 257   1 257 256   0   1   0 256 256   0   1   0]\n",
      " [  0 256   0 256   1 257 256   1   0   0   0 256 256   1   0 257]\n",
      " [  1   1   1   0 257 257   1   1   0 257   1 257   0 257   1 256]\n",
      " [  1 256 256 257   0 257 257 257   1   1 257   1   1   1 256   1]\n",
      " [257   0 256 257 257 257   0   1 256 256   0 257 257   1 257 257]\n",
      " [257 256 257   0 257 256   0 257   0 257   1   0   0 256   0 257]\n",
      " [257 257   1 256   1 256 256   1   1 256   0 257 257   0 257 256]\n",
      " [  1 256   1   0   0 256 256   0 256   1   1 257 257   1 257   1]\n",
      " [  1 256   1 256 257 256   1   1 257 256 257 257   1 257   0   0]\n",
      " [  1 257   0 256 256   0 256 256 256 256   0 256 256 257   1   0]\n",
      " [257 257   0 256   1   0   1 257   1   1 257 257 257 256   1   0]]\n",
      "4\n",
      "[0 1]\n"
     ]
    }
   ],
   "source": [
    "# 66.考虑（dtype = ubyte）的（w，h，3）图像，计算唯一出现的颜色的数量\n",
    "# np.unique(ndarray)：计算ndarray中唯一元素的数量\n",
    "w,h=16,16\n",
    "I = np.random.randint(0,2,(h,w,3)).astype(np.ubyte)\n",
    "F = I[...,0]*256*256 + I[...,1]*256 +I[...,2]\n",
    "print(I)\n",
    "print(F)\n",
    "n = len(np.unique(F))\n",
    "print(n)\n",
    "print(np.unique(I))"
   ]
  },
  {
   "cell_type": "code",
   "execution_count": 78,
   "metadata": {},
   "outputs": [
    {
     "name": "stdout",
     "output_type": "stream",
     "text": [
      "[[[[9 5 8 9]\n",
      "   [2 5 5 6]\n",
      "   [7 3 0 6]]\n",
      "\n",
      "  [[8 7 9 3]\n",
      "   [6 2 2 3]\n",
      "   [1 0 9 4]]\n",
      "\n",
      "  [[8 5 4 9]\n",
      "   [5 0 0 8]\n",
      "   [9 9 2 8]]\n",
      "\n",
      "  [[2 3 9 6]\n",
      "   [8 7 9 3]\n",
      "   [8 7 4 0]]]\n",
      "\n",
      "\n",
      " [[[7 3 6 7]\n",
      "   [0 4 4 3]\n",
      "   [3 4 4 9]]\n",
      "\n",
      "  [[9 6 2 0]\n",
      "   [6 3 0 7]\n",
      "   [2 2 5 6]]\n",
      "\n",
      "  [[4 5 9 6]\n",
      "   [3 3 5 9]\n",
      "   [5 6 0 0]]\n",
      "\n",
      "  [[8 3 1 5]\n",
      "   [0 6 0 6]\n",
      "   [1 9 4 5]]]\n",
      "\n",
      "\n",
      " [[[6 9 9 6]\n",
      "   [1 6 0 2]\n",
      "   [4 1 7 9]]\n",
      "\n",
      "  [[4 9 3 7]\n",
      "   [5 4 9 7]\n",
      "   [9 1 9 0]]\n",
      "\n",
      "  [[6 5 9 3]\n",
      "   [1 7 4 9]\n",
      "   [2 3 7 6]]\n",
      "\n",
      "  [[2 4 5 9]\n",
      "   [4 7 5 3]\n",
      "   [8 2 2 5]]]]\n",
      "[[65 54 67 66]\n",
      " [54 48 55 48]\n",
      " [60 67 62 56]]\n"
     ]
    }
   ],
   "source": [
    "# 67.一个四维array，如何一次性获取后两个轴的sum\n",
    "A = np.random.randint(0,10,(3,4,3,4))\n",
    "print(A)\n",
    "sum = A.sum(axis = (-2,-1))\n",
    "print(sum)"
   ]
  },
  {
   "cell_type": "code",
   "execution_count": 88,
   "metadata": {},
   "outputs": [
    {
     "name": "stdout",
     "output_type": "stream",
     "text": [
      "[0.63977644 0.2323187  0.88921129 0.07521363 0.98022096 0.08512115\n",
      " 0.74453894 0.06298775 0.24200959 0.9773675  0.8703807  0.98968829\n",
      " 0.01309644 0.97968731 0.36809975 0.41478278 0.15152223 0.32785015\n",
      " 0.22125913 0.60443774 0.27109468 0.71238127 0.53941215 0.06547751\n",
      " 0.91537042 0.07922311 0.61768875 0.65621369 0.91121891 0.26682725\n",
      " 0.39287964 0.73787976 0.50631551 0.48664161 0.8530906  0.74710297\n",
      " 0.46864941 0.79460981 0.29085039 0.87206907 0.41666441 0.18951093\n",
      " 0.44434384 0.79684474 0.07103324 0.70891668 0.47746263 0.6497526\n",
      " 0.59725988 0.07351635 0.83892189 0.40459129 0.65248512 0.34457178\n",
      " 0.21560256 0.31317832 0.87730816 0.64551354 0.66837437 0.39721312\n",
      " 0.09339042 0.26852998 0.4320418  0.74841653 0.10704873 0.0249851\n",
      " 0.52487199 0.67213714 0.53609681 0.79297843 0.67272554 0.51220842\n",
      " 0.16391017 0.17918743 0.19734338 0.78077599 0.42445278 0.06026545\n",
      " 0.08972847 0.1171091  0.61998009 0.33763736 0.41231912 0.35940008\n",
      " 0.46838353 0.57064733 0.01591029 0.982689   0.36308833 0.46095957\n",
      " 0.73856821 0.63578542 0.072638   0.29563888 0.10060431 0.68927617\n",
      " 0.50092817 0.65868121 0.82691981 0.66032431]\n",
      "[4 7 7 8 4 3 5 1 7 7 3 1 0 4 0 7 9 1 1 6 0 4 7 8 3 1 8 9 4 5 8 0 7 6 6 4 0\n",
      " 8 3 7 0 3 2 8 4 2 8 9 6 5 2 3 4 2 4 3 9 6 7 4 1 3 9 6 9 4 9 5 6 3 4 7 6 6\n",
      " 7 5 6 1 5 7 4 4 0 0 3 9 3 4 5 6 6 6 6 7 6 5 1 0 1 4]\n",
      "[0.41176498 0.35139025 0.58418855 0.41952777 0.60031646 0.45998608\n",
      " 0.48317084 0.49724313 0.46002524 0.49617582]\n"
     ]
    }
   ],
   "source": [
    "# 68.一个一维向量D，如何使用描述子集索引的相同大小的向量S计算D子集的均值\n",
    "D = np.random.uniform(0,1,100)\n",
    "print(D)\n",
    "S = np.random.randint(0,10,100)\n",
    "print(S)\n",
    "D_sums = np.bincount(S,weights = D) # 指定weights参数，对应index的value索引为weights[index'VALUE]的权重\n",
    "D_counts =np.bincount(S)\n",
    "D_means = D_sums/D_counts\n",
    "print(D_means)"
   ]
  },
  {
   "cell_type": "code",
   "execution_count": 105,
   "metadata": {},
   "outputs": [
    {
     "name": "stdout",
     "output_type": "stream",
     "text": [
      "[[0.8126526  1.08310313 0.80727823 1.46526872 1.30861716]\n",
      " [0.66092457 0.85554201 0.98055598 1.24210479 1.25202785]\n",
      " [0.9076759  1.0478919  1.09915283 1.12754925 1.38812731]\n",
      " [1.21916728 1.24305569 1.25290707 1.92624639 1.91363931]\n",
      " [0.35952846 0.95144564 0.89889044 0.94066492 0.97506045]]\n",
      "[0.8126526  0.85554201 1.09915283 1.92624639 0.97506045]\n",
      "[0.8126526  0.85554201 1.09915283 1.92624639 0.97506045]\n",
      "[0.8126526  0.85554201 1.09915283 1.92624639 0.97506045]\n"
     ]
    }
   ],
   "source": [
    "# 69.如何获得点积的对角线——三种方法\n",
    "A = np.random.uniform(0,1,(5,5))\n",
    "B = np.random.uniform(0,1,(5,5))\n",
    "print(np.dot(A,B))\n",
    "#慢的操作\n",
    "print(np.diag(np.dot(A,B)))\n",
    "#快点的操作:A*B的转置并按列求和\n",
    "# A*B.T\n",
    "print(np.sum(A*B.T,axis = 1))\n",
    "#更快的操作：使用einsum函数，对i,j,k控制\n",
    "print(np.einsum('ij,ji->i',A,B))"
   ]
  },
  {
   "cell_type": "code",
   "execution_count": 116,
   "metadata": {},
   "outputs": [
    {
     "name": "stdout",
     "output_type": "stream",
     "text": [
      "[1. 0. 0. 2. 0. 0. 3. 0. 0. 4. 0. 0. 5.]\n"
     ]
    }
   ],
   "source": [
    "# 70.数组[1,2,3,4,5]，如何建立一个新矢量，每个值之间插入n个连续的零\n",
    "# tips：利用切片的步长属性\n",
    "Z = np.array([1,2,3,4,5])\n",
    "n = 2\n",
    "Z0 = np.zeros(len(Z) + (len(Z)-1)*(n))\n",
    "Z0[::n+1]=Z\n",
    "print(Z0)"
   ]
  },
  {
   "cell_type": "code",
   "execution_count": 126,
   "metadata": {},
   "outputs": [
    {
     "name": "stdout",
     "output_type": "stream",
     "text": [
      "[[[2.]\n",
      "  [2.]\n",
      "  [2.]\n",
      "  [2.]\n",
      "  [2.]]\n",
      "\n",
      " [[2.]\n",
      "  [2.]\n",
      "  [2.]\n",
      "  [2.]\n",
      "  [2.]]\n",
      "\n",
      " [[2.]\n",
      "  [2.]\n",
      "  [2.]\n",
      "  [2.]\n",
      "  [2.]]\n",
      "\n",
      " [[2.]\n",
      "  [2.]\n",
      "  [2.]\n",
      "  [2.]\n",
      "  [2.]]\n",
      "\n",
      " [[2.]\n",
      "  [2.]\n",
      "  [2.]\n",
      "  [2.]\n",
      "  [2.]]]\n",
      "[[[2. 2. 2.]\n",
      "  [2. 2. 2.]\n",
      "  [2. 2. 2.]\n",
      "  [2. 2. 2.]\n",
      "  [2. 2. 2.]]\n",
      "\n",
      " [[2. 2. 2.]\n",
      "  [2. 2. 2.]\n",
      "  [2. 2. 2.]\n",
      "  [2. 2. 2.]\n",
      "  [2. 2. 2.]]\n",
      "\n",
      " [[2. 2. 2.]\n",
      "  [2. 2. 2.]\n",
      "  [2. 2. 2.]\n",
      "  [2. 2. 2.]\n",
      "  [2. 2. 2.]]\n",
      "\n",
      " [[2. 2. 2.]\n",
      "  [2. 2. 2.]\n",
      "  [2. 2. 2.]\n",
      "  [2. 2. 2.]\n",
      "  [2. 2. 2.]]\n",
      "\n",
      " [[2. 2. 2.]\n",
      "  [2. 2. 2.]\n",
      "  [2. 2. 2.]\n",
      "  [2. 2. 2.]\n",
      "  [2. 2. 2.]]]\n"
     ]
    }
   ],
   "source": [
    "# 71.一个(5,5,3)维度的数组，如何乘以一个尺寸为(5,5)的数组\n",
    "# Tips:用切片增加ndarray维度\n",
    "A = np.ones((5,5,3))\n",
    "B = 2*np.ones((5,5))\n",
    "# print(B[:,:,None])# 给B增加一个维度\n",
    "print(A*B[:,:,None])"
   ]
  },
  {
   "cell_type": "code",
   "execution_count": 133,
   "metadata": {},
   "outputs": [
    {
     "name": "stdout",
     "output_type": "stream",
     "text": [
      "[[6 7 8]\n",
      " [3 4 5]\n",
      " [0 1 2]]\n"
     ]
    }
   ],
   "source": [
    "# 72. 如何交换一个数组的两行\n",
    "Z = np.arange(9).reshape((3,3))\n",
    "Z[[2,0]] = Z[[0,2]]# 用arrray[[]] = array[[]]方法\n",
    "print(Z)"
   ]
  },
  {
   "cell_type": "code",
   "execution_count": 161,
   "metadata": {},
   "outputs": [
    {
     "name": "stdout",
     "output_type": "stream",
     "text": [
      "[( 1, 36) ( 1, 48) ( 2, 14) ( 2, 94) ( 4, 21) ( 4, 24) ( 5, 43) ( 5, 81)\n",
      " ( 5, 87) ( 5, 94) ( 6, 18) ( 6, 57) (14, 94) (18, 57) (21, 24) (24, 53)\n",
      " (24, 82) (26, 37) (26, 73) (36, 48) (37, 73) (41, 43) (41, 83) (43, 83)\n",
      " (43, 87) (53, 82) (54, 85) (54, 95) (81, 94) (85, 95)]\n"
     ]
    }
   ],
   "source": [
    "# 73。考虑一组描述三个三角形（带有共享顶点）的10个三元组，\n",
    "# 找到组成所有三角形的一组唯一线段\n",
    "\n",
    "faces = np.random.randint(0,100,(10,3))\n",
    "# print(faces)\n",
    "# np.roll()：array的滚动函数\n",
    "# array.repeat():array复制的倍数,axis控制行/列\n",
    "F = np.roll(faces.repeat(2,axis=1),-1,axis=1)\n",
    "F = F.reshape(len(F)*3,2)\n",
    "F = np.sort(F,axis=1)\n",
    "G = F.view( dtype=[('p0',F.dtype),('p1',F.dtype)] )\n",
    "G = np.unique(G)\n",
    "print(G)"
   ]
  },
  {
   "cell_type": "code",
   "execution_count": 192,
   "metadata": {},
   "outputs": [
    {
     "name": "stdout",
     "output_type": "stream",
     "text": [
      "C: [0 2 1 1 2 0 1]\n",
      "[0 1 2 3 4 5 6]\n",
      "[1 1 2 3 4 4 6]\n"
     ]
    }
   ],
   "source": [
    "# 74. 给出一个array C，是个bincount，如何生成一个array A，令np.bincount(A) == C?\n",
    "C = np.bincount([1,1,2,3,4,4,6])\n",
    "print('C:',C)\n",
    "D = np.arange(len(C))\n",
    "print(D)\n",
    "A = np.repeat(np.arange(len(C)),C) #利用np.repeat的特性，按Carray次数重复\n",
    "print(A)"
   ]
  },
  {
   "cell_type": "code",
   "execution_count": 205,
   "metadata": {},
   "outputs": [
    {
     "name": "stdout",
     "output_type": "stream",
     "text": [
      "[ 0  1  2  3  4  5  6  7  8  9 10 11 12 13 14 15 16 17 18 19]\n",
      "[  0.   1.   3.   6.  10.  15.  21.  28.  36.  45.  55.  66.  78.  91.\n",
      " 105. 120. 136. 153. 171. 190.]\n",
      "[ 0.  1.  3.  6.  9. 12. 15. 18. 21. 24. 27. 30. 33. 36. 39. 42. 45. 48.\n",
      " 51. 54.]\n",
      "[ 1.  2.  3.  4.  5.  6.  7.  8.  9. 10. 11. 12. 13. 14. 15. 16. 17. 18.]\n"
     ]
    }
   ],
   "source": [
    "# 75.如何使用数组上的滑动窗口计算平均值 hint: np.cumsum(累加)\n",
    "def moving_average(a,n=3):#设定输入array和窗口\n",
    "    ret = np.cumsum(a,dtype=float)\n",
    "    print(ret)\n",
    "    ret[n:]= ret[n:]-ret[:-n]\n",
    "    print(ret)\n",
    "    return ret[n-1:]/n\n",
    "Z = np.arange(20)\n",
    "print(Z)\n",
    "print(moving_average(Z))"
   ]
  },
  {
   "cell_type": "code",
   "execution_count": 4,
   "metadata": {},
   "outputs": [
    {
     "name": "stdout",
     "output_type": "stream",
     "text": [
      "(8, 3)\n",
      "(4, 4)\n",
      "[[0 1 2]\n",
      " [1 2 3]\n",
      " [2 3 4]\n",
      " [3 4 5]\n",
      " [4 5 6]\n",
      " [5 6 7]\n",
      " [6 7 8]\n",
      " [7 8 9]]\n"
     ]
    }
   ],
   "source": [
    "# 76.一维数组Z，建立一个二维数组，第一行是Z0，Z1，Z2，每一行都移动1，最后一行是-3,-2,-1\n",
    "from numpy.lib import stride_tricks\n",
    "\n",
    "def rolling(a,window):\n",
    "    shape = (a.size-window+1,window)# 根据size和window构造shape\n",
    "    print(shape)\n",
    "    strides = (a.itemsize,a.itemsize)# 构造间隔\n",
    "    print(strides)\n",
    "    return stride_tricks.as_strided(a,shape=shape,strides=strides)# 进行切块\n",
    "Z = rolling(np.arange(10),3)\n",
    "print(Z)"
   ]
  },
  {
   "cell_type": "code",
   "execution_count": 225,
   "metadata": {
    "scrolled": true
   },
   "outputs": [
    {
     "name": "stdout",
     "output_type": "stream",
     "text": [
      "[False  True False False False False  True False False  True]\n",
      "[ True False  True  True  True  True False  True  True False]\n",
      "[-0.65673705 -0.409875    0.03104188  0.44553659  0.18506469 -0.51159897\n",
      "  0.16425454  0.35983556 -0.25520893 -0.69278122  0.24223598 -0.16286717\n",
      "  0.85003607  0.91840139  0.29110249 -0.56166474  0.20726547 -0.54470857\n",
      " -0.31454101  0.09997587 -0.64404263  0.85462594 -0.94511693  0.17107354\n",
      " -0.92267785 -0.17124063  0.75261935  0.1614224   0.1625776   0.97456074\n",
      "  0.73935788  0.9779731   0.45948775 -0.66322442 -0.40472883  0.36663582\n",
      " -0.19266401  0.83278049  0.72948212 -0.99253567  0.51851567 -0.2810945\n",
      "  0.41042918 -0.22199113  0.23128642 -0.61434727 -0.74846218 -0.97049363\n",
      "  0.45377255  0.68844126 -0.00696725  0.54585575 -0.32956466 -0.23488445\n",
      " -0.41197012  0.30361848 -0.62366344  0.68412602 -0.22078788 -0.2091005\n",
      "  0.202314   -0.74233298 -0.39476534  0.29984004 -0.73421545 -0.87577056\n",
      "  0.42341499 -0.21609475 -0.02988981 -0.8962376   0.73714434 -0.96766378\n",
      "  0.89431004  0.74845786 -0.74899505  0.12008826 -0.68668207  0.22345324\n",
      "  0.84385728  0.99659615 -0.3809834  -0.62099582 -0.64499962 -0.54952753\n",
      " -0.22186818  0.55119741 -0.13358804  0.08206518  0.54026077  0.04855737\n",
      "  0.11875457  0.28980112 -0.49768401  0.94058973 -0.15536334 -0.88688057\n",
      "  0.01090465  0.06293365  0.93404363 -0.87820577]\n"
     ]
    },
    {
     "data": {
      "text/plain": [
       "array([ 0.65673705,  0.409875  , -0.03104188, -0.44553659, -0.18506469,\n",
       "        0.51159897, -0.16425454, -0.35983556,  0.25520893,  0.69278122,\n",
       "       -0.24223598,  0.16286717, -0.85003607, -0.91840139, -0.29110249,\n",
       "        0.56166474, -0.20726547,  0.54470857,  0.31454101, -0.09997587,\n",
       "        0.64404263, -0.85462594,  0.94511693, -0.17107354,  0.92267785,\n",
       "        0.17124063, -0.75261935, -0.1614224 , -0.1625776 , -0.97456074,\n",
       "       -0.73935788, -0.9779731 , -0.45948775,  0.66322442,  0.40472883,\n",
       "       -0.36663582,  0.19266401, -0.83278049, -0.72948212,  0.99253567,\n",
       "       -0.51851567,  0.2810945 , -0.41042918,  0.22199113, -0.23128642,\n",
       "        0.61434727,  0.74846218,  0.97049363, -0.45377255, -0.68844126,\n",
       "        0.00696725, -0.54585575,  0.32956466,  0.23488445,  0.41197012,\n",
       "       -0.30361848,  0.62366344, -0.68412602,  0.22078788,  0.2091005 ,\n",
       "       -0.202314  ,  0.74233298,  0.39476534, -0.29984004,  0.73421545,\n",
       "        0.87577056, -0.42341499,  0.21609475,  0.02988981,  0.8962376 ,\n",
       "       -0.73714434,  0.96766378, -0.89431004, -0.74845786,  0.74899505,\n",
       "       -0.12008826,  0.68668207, -0.22345324, -0.84385728, -0.99659615,\n",
       "        0.3809834 ,  0.62099582,  0.64499962,  0.54952753,  0.22186818,\n",
       "       -0.55119741,  0.13358804, -0.08206518, -0.54026077, -0.04855737,\n",
       "       -0.11875457, -0.28980112,  0.49768401, -0.94058973,  0.15536334,\n",
       "        0.88688057, -0.01090465, -0.06293365, -0.93404363,  0.87820577])"
      ]
     },
     "execution_count": 225,
     "metadata": {},
     "output_type": "execute_result"
    }
   ],
   "source": [
    "# 77.如何取反布尔值，或更改原位浮动符号\n",
    "# hint: np.logical_not, np.negative\n",
    "A1 = np.random.randint(0,3,10)\n",
    "A2 = np.random.randint(0,3,10)\n",
    "B = A1==A2\n",
    "print(B)\n",
    "np.logical_not(B,out=B)# 用logical_not逻辑操作函数\n",
    "print(B)\n",
    "\n",
    "A3 = np.random.uniform(-1.0,1.0,100)\n",
    "print(A3)\n",
    "np.negative(A3,out = A3)# np.negative()函数，对float型数组进行取反"
   ]
  },
  {
   "cell_type": "code",
   "execution_count": 247,
   "metadata": {},
   "outputs": [
    {
     "data": {
      "text/plain": [
       "array([ 0.27509062,  1.82529796,  7.73953832,  1.72316101, 14.7962652 ,\n",
       "        2.475234  , 10.05218557,  7.50467679,  0.55386511,  9.56059623])"
      ]
     },
     "execution_count": 247,
     "metadata": {},
     "output_type": "execute_result"
    }
   ],
   "source": [
    "# 78.考虑b表示线（2d）的2组点P0，P1，以及一个点p如何计算从p到每条线i的距离\n",
    "# （P0 [i]，P1 [i]）\n",
    "def getDistance(P0,P1,p):\n",
    "    T = P1 - P0 # 计算y1-y0,x1-x0\n",
    "    L = (T**2).sum(axis=1)  # (y1-y0)**2,(x1-x0)**2\n",
    "    U = -((P0[:,0]-p[...,0])*T[:,0] + (P0[:,1]-p[...,1])*T[:,1]) / L # 计算中间过程\n",
    "    U = U.reshape(len(U),1)\n",
    "    D = P0 + U*T - p\n",
    "    return np.sqrt((D**2).sum(axis=1))\n",
    "    \n",
    "    \n",
    "    \n",
    "P0 = np.random.uniform(-10,10,(10,2))\n",
    "P1 = np.random.uniform(-10,10,(10,2))\n",
    "p = np.random.uniform(-10,10,(1,2))\n",
    "\n",
    "getDistance(P0,P1,p)"
   ]
  },
  {
   "cell_type": "code",
   "execution_count": 249,
   "metadata": {},
   "outputs": [
    {
     "name": "stdout",
     "output_type": "stream",
     "text": [
      "<generator object <genexpr> at 0x000001FAF2260A50>\n"
     ]
    }
   ],
   "source": [
    "# 79. 考虑描述线（2d）的2组点P0，P1和一组点P，\n",
    "# 如何计算从每个点j（P [j]）到每个线i（P0 [i]，P1 [i]）的距离\n",
    "# Tips:基于上一个问题的距离函数\n",
    "P0 = np.random.uniform(-10, 10, (10,2))\n",
    "P1 = np.random.uniform(-10,10,(10,2))\n",
    "P = np.random.uniform(-10, 10, (10,2))\n",
    "print(np.array(getDistance(P1,P0,P) for p_i in p))"
   ]
  },
  {
   "cell_type": "code",
   "execution_count": 250,
   "metadata": {},
   "outputs": [
    {
     "name": "stdout",
     "output_type": "stream",
     "text": [
      "[[1 2 6 9 1 5 7 5 1 8]\n",
      " [9 4 5 9 2 8 9 5 7 1]\n",
      " [5 8 2 4 2 5 9 6 4 8]\n",
      " [6 3 9 3 5 9 5 8 8 6]\n",
      " [9 8 0 5 0 2 4 3 6 9]\n",
      " [4 4 9 7 2 0 0 8 2 5]\n",
      " [0 8 4 2 2 5 9 3 3 3]\n",
      " [7 9 3 4 2 5 2 3 4 8]\n",
      " [5 9 7 1 9 9 5 2 8 0]\n",
      " [1 7 6 7 0 9 0 1 5 8]]\n",
      "[[0 0 0 0 0]\n",
      " [0 1 2 6 9]\n",
      " [0 9 4 5 9]\n",
      " [0 5 8 2 4]\n",
      " [0 6 3 9 3]]\n"
     ]
    },
    {
     "name": "stderr",
     "output_type": "stream",
     "text": [
      "<ipython-input-250-094f609395a2>:25: FutureWarning: Using a non-tuple sequence for multidimensional indexing is deprecated; use `arr[tuple(seq)]` instead of `arr[seq]`. In the future this will be interpreted as an array index, `arr[np.array(seq)]`, which will result either in an error or a different result.\n",
      "  R[r] = Z[z]\n"
     ]
    }
   ],
   "source": [
    "# 80. 考虑一个任意数组\n",
    "# 编写一个函数来提取具有固定形状并以给定元素为中心的子部分（必要时使用填充值填充）\n",
    "Z = np.random.randint(0,10,(10,10))\n",
    "shape = (5,5)\n",
    "fill  = 0\n",
    "position = (1,1)\n",
    "\n",
    "R = np.ones(shape, dtype=Z.dtype)*fill\n",
    "P  = np.array(list(position)).astype(int)\n",
    "Rs = np.array(list(R.shape)).astype(int)\n",
    "Zs = np.array(list(Z.shape)).astype(int)\n",
    "\n",
    "R_start = np.zeros((len(shape),)).astype(int)\n",
    "R_stop  = np.array(list(shape)).astype(int)\n",
    "Z_start = (P-Rs//2)\n",
    "Z_stop  = (P+Rs//2)+Rs%2\n",
    "\n",
    "R_start = (R_start - np.minimum(Z_start,0)).tolist()\n",
    "Z_start = (np.maximum(Z_start,0)).tolist()\n",
    "R_stop = np.maximum(R_start, (R_stop - np.maximum(Z_stop-Zs,0))).tolist()\n",
    "Z_stop = (np.minimum(Z_stop,Zs)).tolist()\n",
    "\n",
    "r = [slice(start,stop) for start,stop in zip(R_start,R_stop)]\n",
    "z = [slice(start,stop) for start,stop in zip(Z_start,Z_stop)]\n",
    "R[r] = Z[z]\n",
    "print(Z)\n",
    "print(R)"
   ]
  },
  {
   "cell_type": "code",
   "execution_count": 26,
   "metadata": {},
   "outputs": [
    {
     "name": "stdout",
     "output_type": "stream",
     "text": [
      "[ 1  2  3  4  5  6  7  8  9 10 11 12 13 14]\n",
      "[4 4]\n",
      "[[ 1  2  3  4]\n",
      " [ 2  3  4  5]\n",
      " [ 3  4  5  6]\n",
      " [ 4  5  6  7]\n",
      " [ 5  6  7  8]\n",
      " [ 6  7  8  9]\n",
      " [ 7  8  9 10]\n",
      " [ 8  9 10 11]\n",
      " [ 9 10 11 12]\n",
      " [10 11 12 13]\n",
      " [11 12 13 14]]\n"
     ]
    }
   ],
   "source": [
    "# 81. 一个数组Z = [1,2,3,4,5,6,7,8,9,10,11,12,13,14]，如何生成四个元素一个分组的二维数组\n",
    "# [[1,2,3,4], [2,3,4,5], [3,4,5,6], ..., [11,12,13,14]]\n",
    "from numpy.lib import stride_tricks\n",
    "Z = np.arange(1,15,dtype=np.uint32)\n",
    "print(Z)\n",
    "# 用分组属性进行分组(重点在于shape和strides的设置)\n",
    "# shape = (11,4)\n",
    "strides = Z.itemsize*np.array([1,1])\n",
    "print(strides)\n",
    "D = stride_tricks.as_strided(Z,shape=shape,strides=strides)\n",
    "print(R)"
   ]
  },
  {
   "cell_type": "code",
   "execution_count": 30,
   "metadata": {},
   "outputs": [
    {
     "name": "stdout",
     "output_type": "stream",
     "text": [
      "[[0.07880289 0.13384135 0.32738019 0.3348074  0.45891494 0.60183477\n",
      "  0.15899197 0.96539416 0.76109885 0.99223445]\n",
      " [0.35155533 0.05989117 0.68576742 0.25992388 0.30228417 0.03442989\n",
      "  0.73012719 0.24241207 0.68864123 0.48993287]\n",
      " [0.18012596 0.81806607 0.16022492 0.61078128 0.02925722 0.20672255\n",
      "  0.27707397 0.66404462 0.71258882 0.20568806]\n",
      " [0.95514688 0.52183841 0.90418586 0.3802347  0.9437758  0.44374086\n",
      "  0.50983835 0.89082529 0.43048962 0.85663892]\n",
      " [0.91400159 0.87646266 0.6372387  0.33095686 0.70100071 0.65437175\n",
      "  0.75110038 0.22066595 0.11060494 0.67073519]\n",
      " [0.0544487  0.02666778 0.99523458 0.86942343 0.66713326 0.832946\n",
      "  0.11701647 0.03513045 0.04943543 0.4180428 ]\n",
      " [0.9658868  0.97397332 0.98878863 0.12604506 0.76049793 0.33160563\n",
      "  0.76886605 0.9916096  0.45879839 0.87298478]\n",
      " [0.18860659 0.6783195  0.55830951 0.70715822 0.65536036 0.38353985\n",
      "  0.01631561 0.03018549 0.24950553 0.90330019]\n",
      " [0.22762432 0.87056384 0.79842136 0.34093652 0.14210953 0.86664866\n",
      "  0.76210855 0.68699446 0.74394437 0.0292167 ]\n",
      " [0.53453949 0.49869821 0.34369465 0.90119804 0.93540637 0.57292063\n",
      "  0.21058685 0.56250899 0.74714796 0.75707212]]\n",
      "10\n"
     ]
    }
   ],
   "source": [
    "# 82。计算一个矩阵的rank，利用线性代数工具求奇异值分解\n",
    "Z = np.random.uniform(0,1,(10,10))\n",
    "print(Z)\n",
    "U,S,V = np.linalg.svd(Z) # svd奇异值分解\n",
    "rank = sum(S>1e-10)\n",
    "print(rank)"
   ]
  },
  {
   "cell_type": "code",
   "execution_count": 41,
   "metadata": {},
   "outputs": [
    {
     "name": "stdout",
     "output_type": "stream",
     "text": [
      "[2 3 3 1 1 2 3 3 2 0]\n",
      "3\n"
     ]
    }
   ],
   "source": [
    "# 83.如何在一个array里面找到出现次数最频繁的值\n",
    "# 通过bincount函数求得每个数字的出现频率，通过argmax求得这个value的index\n",
    "Z = np.random.randint(0,4,10)\n",
    "print(Z)\n",
    "print(np.bincount(Z).argmax())\n"
   ]
  },
  {
   "cell_type": "code",
   "execution_count": 51,
   "metadata": {},
   "outputs": [
    {
     "name": "stdout",
     "output_type": "stream",
     "text": [
      "[[0 5 3 0 4 7 2 7 5 7]\n",
      " [3 4 6 0 4 4 6 7 0 8]\n",
      " [6 8 1 3 5 3 6 9 5 5]\n",
      " [7 1 2 6 0 3 4 6 9 7]\n",
      " [2 4 4 1 9 9 4 4 1 3]\n",
      " [9 4 9 4 4 0 5 0 6 1]\n",
      " [7 8 2 3 8 3 6 2 9 2]\n",
      " [8 1 7 4 4 5 3 2 2 1]\n",
      " [1 7 9 7 4 2 3 0 8 9]\n",
      " [8 5 9 0 6 7 0 0 4 1]]\n",
      "[[[[0 5 3]\n",
      "   [3 4 6]\n",
      "   [6 8 1]]\n",
      "\n",
      "  [[5 3 0]\n",
      "   [4 6 0]\n",
      "   [8 1 3]]\n",
      "\n",
      "  [[3 0 4]\n",
      "   [6 0 4]\n",
      "   [1 3 5]]\n",
      "\n",
      "  [[0 4 7]\n",
      "   [0 4 4]\n",
      "   [3 5 3]]\n",
      "\n",
      "  [[4 7 2]\n",
      "   [4 4 6]\n",
      "   [5 3 6]]\n",
      "\n",
      "  [[7 2 7]\n",
      "   [4 6 7]\n",
      "   [3 6 9]]\n",
      "\n",
      "  [[2 7 5]\n",
      "   [6 7 0]\n",
      "   [6 9 5]]\n",
      "\n",
      "  [[7 5 7]\n",
      "   [7 0 8]\n",
      "   [9 5 5]]]\n",
      "\n",
      "\n",
      " [[[3 4 6]\n",
      "   [6 8 1]\n",
      "   [7 1 2]]\n",
      "\n",
      "  [[4 6 0]\n",
      "   [8 1 3]\n",
      "   [1 2 6]]\n",
      "\n",
      "  [[6 0 4]\n",
      "   [1 3 5]\n",
      "   [2 6 0]]\n",
      "\n",
      "  [[0 4 4]\n",
      "   [3 5 3]\n",
      "   [6 0 3]]\n",
      "\n",
      "  [[4 4 6]\n",
      "   [5 3 6]\n",
      "   [0 3 4]]\n",
      "\n",
      "  [[4 6 7]\n",
      "   [3 6 9]\n",
      "   [3 4 6]]\n",
      "\n",
      "  [[6 7 0]\n",
      "   [6 9 5]\n",
      "   [4 6 9]]\n",
      "\n",
      "  [[7 0 8]\n",
      "   [9 5 5]\n",
      "   [6 9 7]]]\n",
      "\n",
      "\n",
      " [[[6 8 1]\n",
      "   [7 1 2]\n",
      "   [2 4 4]]\n",
      "\n",
      "  [[8 1 3]\n",
      "   [1 2 6]\n",
      "   [4 4 1]]\n",
      "\n",
      "  [[1 3 5]\n",
      "   [2 6 0]\n",
      "   [4 1 9]]\n",
      "\n",
      "  [[3 5 3]\n",
      "   [6 0 3]\n",
      "   [1 9 9]]\n",
      "\n",
      "  [[5 3 6]\n",
      "   [0 3 4]\n",
      "   [9 9 4]]\n",
      "\n",
      "  [[3 6 9]\n",
      "   [3 4 6]\n",
      "   [9 4 4]]\n",
      "\n",
      "  [[6 9 5]\n",
      "   [4 6 9]\n",
      "   [4 4 1]]\n",
      "\n",
      "  [[9 5 5]\n",
      "   [6 9 7]\n",
      "   [4 1 3]]]\n",
      "\n",
      "\n",
      " [[[7 1 2]\n",
      "   [2 4 4]\n",
      "   [9 4 9]]\n",
      "\n",
      "  [[1 2 6]\n",
      "   [4 4 1]\n",
      "   [4 9 4]]\n",
      "\n",
      "  [[2 6 0]\n",
      "   [4 1 9]\n",
      "   [9 4 4]]\n",
      "\n",
      "  [[6 0 3]\n",
      "   [1 9 9]\n",
      "   [4 4 0]]\n",
      "\n",
      "  [[0 3 4]\n",
      "   [9 9 4]\n",
      "   [4 0 5]]\n",
      "\n",
      "  [[3 4 6]\n",
      "   [9 4 4]\n",
      "   [0 5 0]]\n",
      "\n",
      "  [[4 6 9]\n",
      "   [4 4 1]\n",
      "   [5 0 6]]\n",
      "\n",
      "  [[6 9 7]\n",
      "   [4 1 3]\n",
      "   [0 6 1]]]\n",
      "\n",
      "\n",
      " [[[2 4 4]\n",
      "   [9 4 9]\n",
      "   [7 8 2]]\n",
      "\n",
      "  [[4 4 1]\n",
      "   [4 9 4]\n",
      "   [8 2 3]]\n",
      "\n",
      "  [[4 1 9]\n",
      "   [9 4 4]\n",
      "   [2 3 8]]\n",
      "\n",
      "  [[1 9 9]\n",
      "   [4 4 0]\n",
      "   [3 8 3]]\n",
      "\n",
      "  [[9 9 4]\n",
      "   [4 0 5]\n",
      "   [8 3 6]]\n",
      "\n",
      "  [[9 4 4]\n",
      "   [0 5 0]\n",
      "   [3 6 2]]\n",
      "\n",
      "  [[4 4 1]\n",
      "   [5 0 6]\n",
      "   [6 2 9]]\n",
      "\n",
      "  [[4 1 3]\n",
      "   [0 6 1]\n",
      "   [2 9 2]]]\n",
      "\n",
      "\n",
      " [[[9 4 9]\n",
      "   [7 8 2]\n",
      "   [8 1 7]]\n",
      "\n",
      "  [[4 9 4]\n",
      "   [8 2 3]\n",
      "   [1 7 4]]\n",
      "\n",
      "  [[9 4 4]\n",
      "   [2 3 8]\n",
      "   [7 4 4]]\n",
      "\n",
      "  [[4 4 0]\n",
      "   [3 8 3]\n",
      "   [4 4 5]]\n",
      "\n",
      "  [[4 0 5]\n",
      "   [8 3 6]\n",
      "   [4 5 3]]\n",
      "\n",
      "  [[0 5 0]\n",
      "   [3 6 2]\n",
      "   [5 3 2]]\n",
      "\n",
      "  [[5 0 6]\n",
      "   [6 2 9]\n",
      "   [3 2 2]]\n",
      "\n",
      "  [[0 6 1]\n",
      "   [2 9 2]\n",
      "   [2 2 1]]]\n",
      "\n",
      "\n",
      " [[[7 8 2]\n",
      "   [8 1 7]\n",
      "   [1 7 9]]\n",
      "\n",
      "  [[8 2 3]\n",
      "   [1 7 4]\n",
      "   [7 9 7]]\n",
      "\n",
      "  [[2 3 8]\n",
      "   [7 4 4]\n",
      "   [9 7 4]]\n",
      "\n",
      "  [[3 8 3]\n",
      "   [4 4 5]\n",
      "   [7 4 2]]\n",
      "\n",
      "  [[8 3 6]\n",
      "   [4 5 3]\n",
      "   [4 2 3]]\n",
      "\n",
      "  [[3 6 2]\n",
      "   [5 3 2]\n",
      "   [2 3 0]]\n",
      "\n",
      "  [[6 2 9]\n",
      "   [3 2 2]\n",
      "   [3 0 8]]\n",
      "\n",
      "  [[2 9 2]\n",
      "   [2 2 1]\n",
      "   [0 8 9]]]\n",
      "\n",
      "\n",
      " [[[8 1 7]\n",
      "   [1 7 9]\n",
      "   [8 5 9]]\n",
      "\n",
      "  [[1 7 4]\n",
      "   [7 9 7]\n",
      "   [5 9 0]]\n",
      "\n",
      "  [[7 4 4]\n",
      "   [9 7 4]\n",
      "   [9 0 6]]\n",
      "\n",
      "  [[4 4 5]\n",
      "   [7 4 2]\n",
      "   [0 6 7]]\n",
      "\n",
      "  [[4 5 3]\n",
      "   [4 2 3]\n",
      "   [6 7 0]]\n",
      "\n",
      "  [[5 3 2]\n",
      "   [2 3 0]\n",
      "   [7 0 0]]\n",
      "\n",
      "  [[3 2 2]\n",
      "   [3 0 8]\n",
      "   [0 0 4]]\n",
      "\n",
      "  [[2 2 1]\n",
      "   [0 8 9]\n",
      "   [0 4 1]]]]\n"
     ]
    }
   ],
   "source": [
    "# 84.从一个10维随机矩阵中提取所有连续的3*3块\n",
    "# stride_tricks,进行窗口移动提取\n",
    "Z = np.random.randint(0,10,(10,10))\n",
    "print(Z)\n",
    "shape = (8,8,3,3)\n",
    "strides = Z.itemsize*np.array([10,1,10,1])# 窗口的步长表示是核心\n",
    "# print(Z.strides+Z.strides)\n",
    "D = stride_tricks.as_strided(Z,shape=shape,strides=strides)\n",
    "print(D)"
   ]
  },
  {
   "cell_type": "code",
   "execution_count": 54,
   "metadata": {},
   "outputs": [
    {
     "name": "stdout",
     "output_type": "stream",
     "text": [
      "[[ 3 17  9  7  3]\n",
      " [17  7  9  5  6]\n",
      " [ 9  9  3 10  3]\n",
      " [ 7  5 10  3  5]\n",
      " [ 3  6  3  5  5]]\n",
      "[[ 3 17  9  7  3]\n",
      " [17  7  9  5  6]\n",
      " [ 9  9  3 42  3]\n",
      " [ 7  5 42  3  5]\n",
      " [ 3  6  3  5  5]]\n"
     ]
    }
   ],
   "source": [
    "# 85. 建立一个二维的子数组类如Z[i,j] == Z[j,i]\n",
    "# 生成随机的对称矩阵\n",
    "# Tips:仅适用于二维数组和使用索引设置值\n",
    "class Symetric(np.ndarray):\n",
    "    def __setitem__(self, index, value):\n",
    "        i,j = index\n",
    "        super(Symetric, self).__setitem__((i,j), value)\n",
    "        super(Symetric, self).__setitem__((j,i), value)\n",
    "\n",
    "def symetric(Z):\n",
    "    return np.asarray(Z + Z.T - np.diag(Z.diagonal())).view(Symetric)\n",
    "\n",
    "S = symetric(np.random.randint(0,10,(5,5)))\n",
    "print(S)\n",
    "S[2,3] = 42\n",
    "print(S)"
   ]
  },
  {
   "cell_type": "code",
   "execution_count": 56,
   "metadata": {},
   "outputs": [
    {
     "name": "stdout",
     "output_type": "stream",
     "text": [
      "[[[1. 1. 1. ... 1. 1. 1.]\n",
      "  [1. 1. 1. ... 1. 1. 1.]\n",
      "  [1. 1. 1. ... 1. 1. 1.]\n",
      "  ...\n",
      "  [1. 1. 1. ... 1. 1. 1.]\n",
      "  [1. 1. 1. ... 1. 1. 1.]\n",
      "  [1. 1. 1. ... 1. 1. 1.]]\n",
      "\n",
      " [[1. 1. 1. ... 1. 1. 1.]\n",
      "  [1. 1. 1. ... 1. 1. 1.]\n",
      "  [1. 1. 1. ... 1. 1. 1.]\n",
      "  ...\n",
      "  [1. 1. 1. ... 1. 1. 1.]\n",
      "  [1. 1. 1. ... 1. 1. 1.]\n",
      "  [1. 1. 1. ... 1. 1. 1.]]\n",
      "\n",
      " [[1. 1. 1. ... 1. 1. 1.]\n",
      "  [1. 1. 1. ... 1. 1. 1.]\n",
      "  [1. 1. 1. ... 1. 1. 1.]\n",
      "  ...\n",
      "  [1. 1. 1. ... 1. 1. 1.]\n",
      "  [1. 1. 1. ... 1. 1. 1.]\n",
      "  [1. 1. 1. ... 1. 1. 1.]]\n",
      "\n",
      " ...\n",
      "\n",
      " [[1. 1. 1. ... 1. 1. 1.]\n",
      "  [1. 1. 1. ... 1. 1. 1.]\n",
      "  [1. 1. 1. ... 1. 1. 1.]\n",
      "  ...\n",
      "  [1. 1. 1. ... 1. 1. 1.]\n",
      "  [1. 1. 1. ... 1. 1. 1.]\n",
      "  [1. 1. 1. ... 1. 1. 1.]]\n",
      "\n",
      " [[1. 1. 1. ... 1. 1. 1.]\n",
      "  [1. 1. 1. ... 1. 1. 1.]\n",
      "  [1. 1. 1. ... 1. 1. 1.]\n",
      "  ...\n",
      "  [1. 1. 1. ... 1. 1. 1.]\n",
      "  [1. 1. 1. ... 1. 1. 1.]\n",
      "  [1. 1. 1. ... 1. 1. 1.]]\n",
      "\n",
      " [[1. 1. 1. ... 1. 1. 1.]\n",
      "  [1. 1. 1. ... 1. 1. 1.]\n",
      "  [1. 1. 1. ... 1. 1. 1.]\n",
      "  ...\n",
      "  [1. 1. 1. ... 1. 1. 1.]\n",
      "  [1. 1. 1. ... 1. 1. 1.]\n",
      "  [1. 1. 1. ... 1. 1. 1.]]] [[[1.]\n",
      "  [1.]\n",
      "  [1.]\n",
      "  [1.]\n",
      "  [1.]\n",
      "  [1.]\n",
      "  [1.]\n",
      "  [1.]\n",
      "  [1.]\n",
      "  [1.]\n",
      "  [1.]\n",
      "  [1.]\n",
      "  [1.]\n",
      "  [1.]\n",
      "  [1.]\n",
      "  [1.]\n",
      "  [1.]\n",
      "  [1.]\n",
      "  [1.]\n",
      "  [1.]]\n",
      "\n",
      " [[1.]\n",
      "  [1.]\n",
      "  [1.]\n",
      "  [1.]\n",
      "  [1.]\n",
      "  [1.]\n",
      "  [1.]\n",
      "  [1.]\n",
      "  [1.]\n",
      "  [1.]\n",
      "  [1.]\n",
      "  [1.]\n",
      "  [1.]\n",
      "  [1.]\n",
      "  [1.]\n",
      "  [1.]\n",
      "  [1.]\n",
      "  [1.]\n",
      "  [1.]\n",
      "  [1.]]\n",
      "\n",
      " [[1.]\n",
      "  [1.]\n",
      "  [1.]\n",
      "  [1.]\n",
      "  [1.]\n",
      "  [1.]\n",
      "  [1.]\n",
      "  [1.]\n",
      "  [1.]\n",
      "  [1.]\n",
      "  [1.]\n",
      "  [1.]\n",
      "  [1.]\n",
      "  [1.]\n",
      "  [1.]\n",
      "  [1.]\n",
      "  [1.]\n",
      "  [1.]\n",
      "  [1.]\n",
      "  [1.]]\n",
      "\n",
      " [[1.]\n",
      "  [1.]\n",
      "  [1.]\n",
      "  [1.]\n",
      "  [1.]\n",
      "  [1.]\n",
      "  [1.]\n",
      "  [1.]\n",
      "  [1.]\n",
      "  [1.]\n",
      "  [1.]\n",
      "  [1.]\n",
      "  [1.]\n",
      "  [1.]\n",
      "  [1.]\n",
      "  [1.]\n",
      "  [1.]\n",
      "  [1.]\n",
      "  [1.]\n",
      "  [1.]]\n",
      "\n",
      " [[1.]\n",
      "  [1.]\n",
      "  [1.]\n",
      "  [1.]\n",
      "  [1.]\n",
      "  [1.]\n",
      "  [1.]\n",
      "  [1.]\n",
      "  [1.]\n",
      "  [1.]\n",
      "  [1.]\n",
      "  [1.]\n",
      "  [1.]\n",
      "  [1.]\n",
      "  [1.]\n",
      "  [1.]\n",
      "  [1.]\n",
      "  [1.]\n",
      "  [1.]\n",
      "  [1.]]\n",
      "\n",
      " [[1.]\n",
      "  [1.]\n",
      "  [1.]\n",
      "  [1.]\n",
      "  [1.]\n",
      "  [1.]\n",
      "  [1.]\n",
      "  [1.]\n",
      "  [1.]\n",
      "  [1.]\n",
      "  [1.]\n",
      "  [1.]\n",
      "  [1.]\n",
      "  [1.]\n",
      "  [1.]\n",
      "  [1.]\n",
      "  [1.]\n",
      "  [1.]\n",
      "  [1.]\n",
      "  [1.]]\n",
      "\n",
      " [[1.]\n",
      "  [1.]\n",
      "  [1.]\n",
      "  [1.]\n",
      "  [1.]\n",
      "  [1.]\n",
      "  [1.]\n",
      "  [1.]\n",
      "  [1.]\n",
      "  [1.]\n",
      "  [1.]\n",
      "  [1.]\n",
      "  [1.]\n",
      "  [1.]\n",
      "  [1.]\n",
      "  [1.]\n",
      "  [1.]\n",
      "  [1.]\n",
      "  [1.]\n",
      "  [1.]]\n",
      "\n",
      " [[1.]\n",
      "  [1.]\n",
      "  [1.]\n",
      "  [1.]\n",
      "  [1.]\n",
      "  [1.]\n",
      "  [1.]\n",
      "  [1.]\n",
      "  [1.]\n",
      "  [1.]\n",
      "  [1.]\n",
      "  [1.]\n",
      "  [1.]\n",
      "  [1.]\n",
      "  [1.]\n",
      "  [1.]\n",
      "  [1.]\n",
      "  [1.]\n",
      "  [1.]\n",
      "  [1.]]\n",
      "\n",
      " [[1.]\n",
      "  [1.]\n",
      "  [1.]\n",
      "  [1.]\n",
      "  [1.]\n",
      "  [1.]\n",
      "  [1.]\n",
      "  [1.]\n",
      "  [1.]\n",
      "  [1.]\n",
      "  [1.]\n",
      "  [1.]\n",
      "  [1.]\n",
      "  [1.]\n",
      "  [1.]\n",
      "  [1.]\n",
      "  [1.]\n",
      "  [1.]\n",
      "  [1.]\n",
      "  [1.]]\n",
      "\n",
      " [[1.]\n",
      "  [1.]\n",
      "  [1.]\n",
      "  [1.]\n",
      "  [1.]\n",
      "  [1.]\n",
      "  [1.]\n",
      "  [1.]\n",
      "  [1.]\n",
      "  [1.]\n",
      "  [1.]\n",
      "  [1.]\n",
      "  [1.]\n",
      "  [1.]\n",
      "  [1.]\n",
      "  [1.]\n",
      "  [1.]\n",
      "  [1.]\n",
      "  [1.]\n",
      "  [1.]]]\n",
      "[[200.]\n",
      " [200.]\n",
      " [200.]\n",
      " [200.]\n",
      " [200.]\n",
      " [200.]\n",
      " [200.]\n",
      " [200.]\n",
      " [200.]\n",
      " [200.]\n",
      " [200.]\n",
      " [200.]\n",
      " [200.]\n",
      " [200.]\n",
      " [200.]\n",
      " [200.]\n",
      " [200.]\n",
      " [200.]\n",
      " [200.]\n",
      " [200.]]\n"
     ]
    }
   ],
   "source": [
    "# 86.考虑一组形状为（n，n）的p个矩阵和一组形状为（n，1）的p个向量。 \n",
    "# 如何一次计算p个矩阵乘积的总和？ （结果的形状为（n，1））\n",
    "p, n = 10, 20\n",
    "M = np.ones((p,n,n))\n",
    "V = np.ones((p,n,1))\n",
    "print(M,V)\n",
    "S = np.tensordot(M, V, axes=[[0, 2], [0, 1]])# tensordot函数\n",
    "print(S)"
   ]
  },
  {
   "cell_type": "code",
   "execution_count": 3,
   "metadata": {},
   "outputs": [
    {
     "name": "stdout",
     "output_type": "stream",
     "text": [
      "[[16. 16. 16. 16.]\n",
      " [16. 16. 16. 16.]\n",
      " [16. 16. 16. 16.]\n",
      " [16. 16. 16. 16.]]\n"
     ]
    }
   ],
   "source": [
    "# 87.考虑一个16*16的数组，如何获得4*4的块的和\n",
    "# Author: Robert Kern\n",
    "\n",
    "Z = np.ones((16,16))\n",
    "k = 4\n",
    "# np.add.reduceat:将多个块聚合\n",
    "S = np.add.reduceat(np.add.reduceat(Z, np.arange(0, Z.shape[0], k), axis=0),\n",
    "                                       np.arange(0, Z.shape[1], k), axis=1)\n",
    "print(S)\n"
   ]
  },
  {
   "cell_type": "code",
   "execution_count": 4,
   "metadata": {},
   "outputs": [
    {
     "name": "stdout",
     "output_type": "stream",
     "text": [
      "[[0 0 0 ... 0 0 0]\n",
      " [0 0 0 ... 0 0 0]\n",
      " [0 0 0 ... 0 0 0]\n",
      " ...\n",
      " [0 0 0 ... 0 0 0]\n",
      " [0 0 0 ... 0 0 0]\n",
      " [0 0 0 ... 0 0 0]]\n"
     ]
    }
   ],
   "source": [
    "# 88.如何实现一个人生游戏\n",
    "# Author: Nicolas Rougier\n",
    "\n",
    "def iterate(Z):\n",
    "    # Count neighbours\n",
    "    N = (Z[0:-2,0:-2] + Z[0:-2,1:-1] + Z[0:-2,2:] +\n",
    "         Z[1:-1,0:-2]                + Z[1:-1,2:] +\n",
    "         Z[2:  ,0:-2] + Z[2:  ,1:-1] + Z[2:  ,2:])\n",
    "\n",
    "    # Apply rules\n",
    "    birth = (N==3) & (Z[1:-1,1:-1]==0)\n",
    "    survive = ((N==2) | (N==3)) & (Z[1:-1,1:-1]==1)\n",
    "    Z[...] = 0\n",
    "    Z[1:-1,1:-1][birth | survive] = 1\n",
    "    return Z\n",
    "\n",
    "Z = np.random.randint(0,2,(50,50))\n",
    "for i in range(100): Z = iterate(Z)\n",
    "print(Z)"
   ]
  },
  {
   "cell_type": "code",
   "execution_count": 6,
   "metadata": {},
   "outputs": [
    {
     "ename": "SyntaxError",
     "evalue": "invalid character in identifier (<ipython-input-6-f860f8d7e7d8>, line 10)",
     "output_type": "error",
     "traceback": [
      "\u001b[1;36m  File \u001b[1;32m\"<ipython-input-6-f860f8d7e7d8>\"\u001b[1;36m, line \u001b[1;32m10\u001b[0m\n\u001b[1;33m    将大的元素移至右侧，小的元素移至左侧，返回index\u001b[0m\n\u001b[1;37m                             ^\u001b[0m\n\u001b[1;31mSyntaxError\u001b[0m\u001b[1;31m:\u001b[0m invalid character in identifier\n"
     ]
    }
   ],
   "source": [
    "# 89. 如何获得数组里面前n个最大的元素\n",
    "Z = np.arange(10000)\n",
    "np.random.shuffle(Z)\n",
    "n = 5\n",
    "\n",
    "# Slow：慢的方法，利用argsort()，获得最大的前几个index\n",
    "print (Z[np.argsort(Z)[-n:]])\n",
    "\n",
    "# Fast：快的方法，使用argpartation进行快速排列。\n",
    "# 将大的元素移至右侧，小的元素移至左侧，返回index\n",
    "print (Z[np.argpartition(-Z,n)[:n]])\n"
   ]
  },
  {
   "cell_type": "code",
   "execution_count": 7,
   "metadata": {},
   "outputs": [
    {
     "name": "stdout",
     "output_type": "stream",
     "text": [
      "[[1 4 6]\n",
      " [1 4 7]\n",
      " [1 5 6]\n",
      " [1 5 7]\n",
      " [2 4 6]\n",
      " [2 4 7]\n",
      " [2 5 6]\n",
      " [2 5 7]\n",
      " [3 4 6]\n",
      " [3 4 7]\n",
      " [3 5 6]\n",
      " [3 5 7]]\n"
     ]
    }
   ],
   "source": [
    "# 90. 给定任意数量的向量，构建笛卡尔乘积（每一项的每种组合）\n",
    "def cartesian(arrays): # 定义计算笛卡尔积函数\n",
    "    arrays = [np.asarray(a) for a in arrays] #构造array\n",
    "    shape = (len(x) for x in arrays)# 塑造shape\n",
    "\n",
    "    ix = np.indices(shape, dtype=int) # 返回一个代表网格中所有序号的矩阵\n",
    "    ix = ix.reshape(len(arrays), -1).T\n",
    "\n",
    "    for n, arr in enumerate(arrays):\n",
    "        ix[:, n] = arrays[n][ix[:, n]]\n",
    "\n",
    "    return ix\n",
    "\n",
    "print (cartesian(([1, 2, 3], [4, 5], [6, 7])))"
   ]
  },
  {
   "cell_type": "code",
   "execution_count": 8,
   "metadata": {},
   "outputs": [
    {
     "name": "stdout",
     "output_type": "stream",
     "text": [
      "[(b'Hello', 2.5, 3) (b'World', 3.6, 2)]\n"
     ]
    }
   ],
   "source": [
    "# 91.如何从常规数组创建记录数组？\n",
    "\n",
    "# 记录数组可以通过对象.属性来访问元素\n",
    "Z = np.array([(\"Hello\", 2.5, 3),\n",
    "              (\"World\", 3.6, 2)])\n",
    "R = np.core.records.fromarrays(Z.T,\n",
    "                               names='col1, col2, col3',\n",
    "                               formats = 'S8, f8, i8')\n",
    "print(R)\n"
   ]
  },
  {
   "cell_type": "code",
   "execution_count": 9,
   "metadata": {},
   "outputs": [
    {
     "name": "stdout",
     "output_type": "stream",
     "text": [
      "1.73 s ± 23.9 ms per loop (mean ± std. dev. of 7 runs, 1 loop each)\n",
      "287 ms ± 2.58 ms per loop (mean ± std. dev. of 7 runs, 1 loop each)\n",
      "187 ms ± 3.04 ms per loop (mean ± std. dev. of 7 runs, 10 loops each)\n"
     ]
    }
   ],
   "source": [
    "# 92.考虑一个大向量Z，使用3种不同的方法将Z计算为3的幂\n",
    "x = np.random.rand(int(5e7))\n",
    "\n",
    "%timeit np.power(x,3) # 速度最慢\n",
    "%timeit x*x*x # 速度适中\n",
    "%timeit np.einsum('i,i,i->i',x,x,x) # einsum速度最快"
   ]
  },
  {
   "cell_type": "code",
   "execution_count": 19,
   "metadata": {},
   "outputs": [
    {
     "name": "stdout",
     "output_type": "stream",
     "text": [
      "[[2 3 3]\n",
      " [0 0 0]\n",
      " [4 3 4]\n",
      " [0 3 4]\n",
      " [1 4 0]\n",
      " [2 1 4]\n",
      " [4 2 0]\n",
      " [3 3 1]]\n",
      "\n",
      "\n",
      "[[3 4]\n",
      " [3 1]]\n",
      "\n",
      "\n",
      "[[[[False False]\n",
      "   [False False]]\n",
      "\n",
      "  [[ True False]\n",
      "   [ True False]]\n",
      "\n",
      "  [[ True False]\n",
      "   [ True False]]]\n",
      "\n",
      "\n",
      " [[[False False]\n",
      "   [False False]]\n",
      "\n",
      "  [[False False]\n",
      "   [False False]]\n",
      "\n",
      "  [[False False]\n",
      "   [False False]]]\n",
      "\n",
      "\n",
      " [[[False  True]\n",
      "   [False False]]\n",
      "\n",
      "  [[ True False]\n",
      "   [ True False]]\n",
      "\n",
      "  [[False  True]\n",
      "   [False False]]]\n",
      "\n",
      "\n",
      " [[[False False]\n",
      "   [False False]]\n",
      "\n",
      "  [[ True False]\n",
      "   [ True False]]\n",
      "\n",
      "  [[False  True]\n",
      "   [False False]]]\n",
      "\n",
      "\n",
      " [[[False False]\n",
      "   [False  True]]\n",
      "\n",
      "  [[False  True]\n",
      "   [False False]]\n",
      "\n",
      "  [[False False]\n",
      "   [False False]]]\n",
      "\n",
      "\n",
      " [[[False False]\n",
      "   [False False]]\n",
      "\n",
      "  [[False False]\n",
      "   [False  True]]\n",
      "\n",
      "  [[False  True]\n",
      "   [False False]]]\n",
      "\n",
      "\n",
      " [[[False  True]\n",
      "   [False False]]\n",
      "\n",
      "  [[False False]\n",
      "   [False False]]\n",
      "\n",
      "  [[False False]\n",
      "   [False False]]]\n",
      "\n",
      "\n",
      " [[[ True False]\n",
      "   [ True False]]\n",
      "\n",
      "  [[ True False]\n",
      "   [ True False]]\n",
      "\n",
      "  [[False False]\n",
      "   [False  True]]]]\n",
      "[0 2 3 4 5 7]\n"
     ]
    }
   ],
   "source": [
    "# 93. 考虑形状为（8,3）和（2,2）的两个数组A和B。 \n",
    "# 无论B中元素的顺序如何，如何查找包含B每行元素的A行？\n",
    "A = np.random.randint(0,5,(8,3))\n",
    "B = np.random.randint(0,5,(2,2))\n",
    "print(A)\n",
    "print('\\n')\n",
    "print(B)\n",
    "print('\\n')\n",
    "C = (A[..., np.newaxis, np.newaxis] == B)\n",
    "print(C)\n",
    "rows = np.where(C.any((3,1)).all(1))[0]\n",
    "print(rows)\n"
   ]
  },
  {
   "cell_type": "code",
   "execution_count": 31,
   "metadata": {},
   "outputs": [
    {
     "name": "stdout",
     "output_type": "stream",
     "text": [
      "[[1 0 0]\n",
      " [1 1 1]\n",
      " [1 0 1]\n",
      " [0 0 1]\n",
      " [0 0 1]\n",
      " [0 0 0]\n",
      " [1 1 0]\n",
      " [1 1 0]\n",
      " [1 0 0]\n",
      " [1 0 1]]\n",
      "[False  True False False False  True False False False False]\n",
      "[[1 0 0]\n",
      " [1 0 1]\n",
      " [0 0 1]\n",
      " [0 0 1]\n",
      " [1 1 0]\n",
      " [1 1 0]\n",
      " [1 0 0]\n",
      " [1 0 1]]\n",
      "[[1 0 0]\n",
      " [1 0 1]\n",
      " [0 0 1]\n",
      " [0 0 1]\n",
      " [1 1 0]\n",
      " [1 1 0]\n",
      " [1 0 0]\n",
      " [1 0 1]]\n"
     ]
    }
   ],
   "source": [
    "# 94.考虑10x3矩阵，请提取值不相等的行（例如[2,2,3]）\n",
    "Z = np.random.randint(0,2,(10,3))\n",
    "print(Z)\n",
    "# 所有dtypes数组的解决方案（包括字符串数组和记录数组）\n",
    "E = np.all(Z[:,1:]==Z[:,:-1],axis=1) # 进行条件和逻辑判断\n",
    "print(E)\n",
    "U = Z[~E]\n",
    "print(U)\n",
    "\n",
    "# 仅用于处理数值型数组，适用于Z中任意数量的列\n",
    "U = Z[Z.max(axis=1) != Z.min(axis=1),:] # 最大与最小值不等的列的index\n",
    "print(U)"
   ]
  },
  {
   "cell_type": "code",
   "execution_count": 39,
   "metadata": {},
   "outputs": [
    {
     "name": "stdout",
     "output_type": "stream",
     "text": [
      "[[0 0 0 0 0 0 0 0]\n",
      " [0 0 0 0 0 0 0 1]\n",
      " [0 0 0 0 0 0 1 0]\n",
      " [0 0 0 0 0 0 1 1]\n",
      " [0 0 0 0 1 1 1 1]\n",
      " [0 0 0 1 0 0 0 0]\n",
      " [0 0 1 0 0 0 0 0]\n",
      " [0 1 0 0 0 0 0 0]\n",
      " [1 0 0 0 0 0 0 0]]\n"
     ]
    }
   ],
   "source": [
    "# 95.将整数向量转换为矩阵二进制表示形式\n",
    "# I = np.arange(10).astype('int32')\n",
    "# print(I)\n",
    "# B = ((I.reshape(-1,1) & (2**np.arange(8))) != 0).astype(int)\n",
    "# print(B[:,::-1])\n",
    "I = np.array([0, 1, 2, 3, 15, 16, 32, 64, 128], dtype=np.uint8)\n",
    "print(np.unpackbits(I[:, np.newaxis], axis=1))# unpackbits函数可以把整数转化成2进制数。\n",
    "# np.newaxis：增加一个维度"
   ]
  },
  {
   "cell_type": "code",
   "execution_count": 56,
   "metadata": {},
   "outputs": [
    {
     "name": "stdout",
     "output_type": "stream",
     "text": [
      "[[0 1 1]\n",
      " [0 0 1]\n",
      " [0 0 1]\n",
      " [1 0 1]\n",
      " [0 0 0]\n",
      " [1 0 0]]\n",
      "[[0 0 0]\n",
      " [0 0 1]\n",
      " [0 1 1]\n",
      " [1 0 0]\n",
      " [1 0 1]]\n"
     ]
    }
   ],
   "source": [
    "# 96.给定二维数组，如何提取唯一行\n",
    "Z = np.random.randint(0,2,(6,3))\n",
    "print(Z)\n",
    "uZ = np.unique(Z, axis=0)# np.unique函数获取ndarray中的唯一维度的值\n",
    "print(uZ)"
   ]
  },
  {
   "cell_type": "code",
   "execution_count": 57,
   "metadata": {},
   "outputs": [
    {
     "data": {
      "text/plain": [
       "array([[8.01091028e-04, 3.14319148e-01, 2.71822373e-01, 3.74333587e-01,\n",
       "        3.71829273e-01, 7.50600508e-02, 3.66233346e-01, 7.21646416e-02,\n",
       "        3.54594901e-01, 3.46488634e-01],\n",
       "       [2.01412762e-03, 7.90270837e-01, 6.83424142e-01, 9.41160978e-01,\n",
       "        9.34864557e-01, 1.88718281e-01, 9.20795104e-01, 1.81438554e-01,\n",
       "        8.91533370e-01, 8.71152345e-01],\n",
       "       [1.38901489e-03, 5.44999209e-01, 4.71313883e-01, 6.49058480e-01,\n",
       "        6.44716242e-01, 1.30146918e-01, 6.35013441e-01, 1.25126556e-01,\n",
       "        6.14833496e-01, 6.00778008e-01],\n",
       "       [1.36694872e-03, 5.36341242e-01, 4.63826495e-01, 6.38747406e-01,\n",
       "        6.34474149e-01, 1.28079378e-01, 6.24925489e-01, 1.23138771e-01,\n",
       "        6.05066127e-01, 5.91233927e-01],\n",
       "       [4.77658891e-04, 1.87416075e-01, 1.62076928e-01, 2.23200310e-01,\n",
       "        2.21707087e-01, 4.47553392e-02, 2.18370457e-01, 4.30289211e-02,\n",
       "        2.11430913e-01, 2.06597467e-01],\n",
       "       [1.86175668e-03, 7.30485992e-01, 6.31722364e-01, 8.69961129e-01,\n",
       "        8.64141039e-01, 1.74441538e-01, 8.51135955e-01, 1.67712531e-01,\n",
       "        8.24087904e-01, 8.05248726e-01],\n",
       "       [1.32878519e-04, 5.21367254e-02, 4.50877030e-02, 6.20914364e-02,\n",
       "        6.16760411e-02, 1.24503559e-02, 6.07478338e-02, 1.19700887e-02,\n",
       "        5.88173425e-02, 5.74727403e-02],\n",
       "       [1.95304196e-03, 7.66303033e-01, 6.62696848e-01, 9.12616888e-01,\n",
       "        9.06511428e-01, 1.82994720e-01, 8.92868682e-01, 1.75935777e-01,\n",
       "        8.64494416e-01, 8.44731519e-01],\n",
       "       [1.31871374e-03, 5.17415581e-01, 4.47459634e-01, 6.16208180e-01,\n",
       "        6.12085712e-01, 1.23559891e-01, 6.02873991e-01, 1.18793622e-01,\n",
       "        5.83715399e-01, 5.70371290e-01],\n",
       "       [1.21535915e-04, 4.76862980e-02, 4.12389850e-02, 5.67912679e-02,\n",
       "        5.64113310e-02, 1.13875848e-02, 5.55623561e-02, 1.09483136e-02,\n",
       "        5.37966529e-02, 5.25668269e-02]])"
      ]
     },
     "execution_count": 57,
     "metadata": {},
     "output_type": "execute_result"
    }
   ],
   "source": [
    "# 97.A和B两个向量，编写相当于内部，外部，总和和mul函数的einsum\n",
    "# 可以作为einsum的重点习题\n",
    "A = np.random.uniform(0,1,10)\n",
    "B = np.random.uniform(0,1,10)\n",
    "\n",
    "np.einsum('i->', A)       # np.sum(A)\n",
    "np.einsum('i,i->i', A, B) # A * B\n",
    "np.einsum('i,i', A, B)    # np.inner(A, B)\n",
    "np.einsum('i,j->ij', A, B)    # np.outer(A, B)"
   ]
  },
  {
   "cell_type": "code",
   "execution_count": 59,
   "metadata": {},
   "outputs": [],
   "source": [
    "# 98.考虑到两个向量（X，Y）描述的路径，如何使用等距样本对其进行采样\n",
    "\n",
    "phi = np.arange(0, 10*np.pi, 0.1)\n",
    "a = 1\n",
    "x = a*phi*np.cos(phi)\n",
    "y = a*phi*np.sin(phi)\n",
    "\n",
    "dr = (np.diff(x)**2 + np.diff(y)**2)**.5 # segment lengths\n",
    "r = np.zeros_like(x)\n",
    "r[1:] = np.cumsum(dr)                # integrate path\n",
    "r_int = np.linspace(0, r.max(), 200) # regular spaced path\n",
    "x_int = np.interp(r_int, r, x)       # integrate path\n",
    "y_int = np.interp(r_int, r, y)"
   ]
  },
  {
   "cell_type": "code",
   "execution_count": 5,
   "metadata": {},
   "outputs": [
    {
     "name": "stdout",
     "output_type": "stream",
     "text": [
      "[[0 1 2]\n",
      " [3 4 5]\n",
      " [6 7 8]]\n",
      "[ 3 12 21]\n"
     ]
    }
   ],
   "source": [
    "# Einsum:爱因斯坦标记法\n",
    "# 1.简单求和\n",
    "Z = np.arange(9).reshape(3,3)\n",
    "print(Z)\n",
    "print(np.sum(Z,axis=1))"
   ]
  },
  {
   "cell_type": "code",
   "execution_count": null,
   "metadata": {},
   "outputs": [],
   "source": []
  },
  {
   "cell_type": "code",
   "execution_count": null,
   "metadata": {},
   "outputs": [],
   "source": []
  },
  {
   "cell_type": "code",
   "execution_count": null,
   "metadata": {},
   "outputs": [],
   "source": []
  },
  {
   "cell_type": "code",
   "execution_count": null,
   "metadata": {},
   "outputs": [],
   "source": []
  },
  {
   "cell_type": "code",
   "execution_count": null,
   "metadata": {},
   "outputs": [],
   "source": []
  },
  {
   "cell_type": "code",
   "execution_count": null,
   "metadata": {},
   "outputs": [],
   "source": []
  },
  {
   "cell_type": "code",
   "execution_count": null,
   "metadata": {},
   "outputs": [],
   "source": []
  },
  {
   "cell_type": "code",
   "execution_count": null,
   "metadata": {},
   "outputs": [],
   "source": []
  },
  {
   "cell_type": "code",
   "execution_count": null,
   "metadata": {},
   "outputs": [],
   "source": []
  },
  {
   "cell_type": "code",
   "execution_count": null,
   "metadata": {},
   "outputs": [],
   "source": []
  }
 ],
 "metadata": {
  "kernelspec": {
   "display_name": "Python 3",
   "language": "python",
   "name": "python3"
  },
  "language_info": {
   "codemirror_mode": {
    "name": "ipython",
    "version": 3
   },
   "file_extension": ".py",
   "mimetype": "text/x-python",
   "name": "python",
   "nbconvert_exporter": "python",
   "pygments_lexer": "ipython3",
   "version": "3.8.3"
  }
 },
 "nbformat": 4,
 "nbformat_minor": 4
}
